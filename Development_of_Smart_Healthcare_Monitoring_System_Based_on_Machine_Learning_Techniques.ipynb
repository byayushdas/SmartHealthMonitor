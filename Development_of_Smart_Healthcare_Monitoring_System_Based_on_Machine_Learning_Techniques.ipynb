{
  "cells": [
    {
      "cell_type": "code",
      "execution_count": null,
      "metadata": {
        "colab": {
          "base_uri": "https://localhost:8080/"
        },
        "id": "eMEkPyS0oA6S",
        "outputId": "441cc3eb-90a6-4b9f-bb70-728a9de1a166"
      },
      "outputs": [
        {
          "name": "stdout",
          "output_type": "stream",
          "text": [
            "Mounted at /content/drive\n"
          ]
        }
      ],
      "source": [
        "import io\n",
        "from google.colab import drive\n",
        "drive.mount(\"/content/drive\")"
      ]
    },
    {
      "cell_type": "code",
      "execution_count": null,
      "metadata": {
        "colab": {
          "base_uri": "https://localhost:8080/"
        },
        "id": "9KG8UrhZoMwy",
        "outputId": "413d0bc9-5dc9-48cd-c2aa-ba2ffcfd0216"
      },
      "outputs": [
        {
          "name": "stdout",
          "output_type": "stream",
          "text": [
            "Index(['Time (s)', 'SpO2 (%)', 'Heart Rate (bpm)', 'IR Value', 'Red Value',\n",
            "       'Accel X (m/s^2)', 'Accel Y (m/s^2)', 'Accel Z (m/s^2)'],\n",
            "      dtype='object')\n"
          ]
        }
      ],
      "source": [
        "import pandas as pd\n",
        "import numpy as np\n",
        "\n",
        "# Load both datasets (with bad line skipping)\n",
        "df1 = pd.read_csv('/content/drive/My Drive/health_band_readings.csv')\n",
        "df2 = pd.read_csv('/content/drive/My Drive/health_band_readings.csv')\n",
        "\n",
        "# Reset index\n",
        "df1.reset_index(drop=True, inplace=True)\n",
        "df2.reset_index(drop=True, inplace=True)\n",
        "print(df1.columns)\n",
        "\n",
        "\n",
        "# Merge and align by index\n",
        "# Merge both datasets (based on index, since no unique key is provided)\n",
        "merged_df = pd.concat([df2, df1[['Accel X (m/s^2)', 'Accel Y (m/s^2)', 'Accel Z (m/s^2)']]], axis=1)\n",
        "\n",
        "# Add synthetic UV Rate\n",
        "np.random.seed(42)\n",
        "merged_df['UV Rate'] = np.clip(np.random.normal(loc=5.5, scale=2.0, size=len(merged_df)), 0, 11).round(2)\n"
      ]
    },
    {
      "cell_type": "code",
      "execution_count": null,
      "metadata": {
        "colab": {
          "base_uri": "https://localhost:8080/"
        },
        "id": "5F2aSiDLoQQ9",
        "outputId": "3ebc3617-a528-4e1c-94bb-4254ce79e687"
      },
      "outputs": [
        {
          "name": "stdout",
          "output_type": "stream",
          "text": [
            "Could not add noise to Accel X (m/s^2): arg must be a list, tuple, 1-d array, or Series\n",
            "Could not add noise to Accel Y (m/s^2): arg must be a list, tuple, 1-d array, or Series\n",
            "Could not add noise to Accel Z (m/s^2): arg must be a list, tuple, 1-d array, or Series\n",
            "✅ Augmented dataset generated successfully!\n"
          ]
        }
      ],
      "source": [
        "# Generate synthetic samples\n",
        "num_samples = 1000\n",
        "synthetic_data = merged_df.sample(n=num_samples, replace=True).copy()\n",
        "\n",
        "# Add noise to numeric columns\n",
        "for col in ['SpO2 (%)', 'Heart Rate (bpm)', 'Accel X (m/s^2)', 'Accel Y (m/s^2)', 'Accel Z (m/s^2)', 'UV Rate']:\n",
        "    if col in synthetic_data.columns:\n",
        "        try:\n",
        "            noise = np.random.normal(0, 0.5, size=synthetic_data[col].shape)\n",
        "            synthetic_data[col] = pd.to_numeric(synthetic_data[col], errors='coerce') + noise\n",
        "        except Exception as e:\n",
        "            print(f\"Could not add noise to {col}: {e}\")\n",
        "\n",
        "# Clean and round\n",
        "synthetic_data.reset_index(drop=True, inplace=True)\n",
        "synthetic_data = synthetic_data.round(2)\n",
        "\n",
        "# Combine with original\n",
        "augmented_df = pd.concat([merged_df, synthetic_data], ignore_index=True)\n",
        "\n",
        "# Save it\n",
        "augmented_df.to_csv(\"augmented_health_dataset.csv\", index=False)\n",
        "\n",
        "print(\"✅ Augmented dataset generated successfully!\")\n"
      ]
    },
    {
      "cell_type": "code",
      "execution_count": null,
      "metadata": {
        "colab": {
          "base_uri": "https://localhost:8080/"
        },
        "id": "ruDzRRQwoT-w",
        "outputId": "f175448e-9143-4fd4-9dcf-68be6f4d7a65"
      },
      "outputs": [
        {
          "name": "stdout",
          "output_type": "stream",
          "text": [
            "✅ Augmented dataset generated and saved as 'augmented_health_band_data.csv'\n"
          ]
        }
      ],
      "source": [
        "# Step 2: Create synthetic data matching the number of rows in df2\n",
        "num_samples = len(df2)\n",
        "synthetic_data = pd.DataFrame()\n",
        "\n",
        "# Add a synthetic 'UV Rate' (simulating random UV index between 0 and 12)\n",
        "np.random.seed(42)  # for reproducibility\n",
        "synthetic_data['UV Rate'] = np.random.uniform(0, 12, size=num_samples)\n",
        "\n",
        "# Merge df2 with only matching features (we skip df1 here for simplicity)\n",
        "synthetic_data = pd.concat([df2.reset_index(drop=True), synthetic_data], axis=1)\n",
        "\n",
        "# Step 3: Clean acceleration values (if they are strings like \"[0.12 0.34 0.56]\")\n",
        "for col in ['Accel X (m/s^2)', 'Accel Y (m/s^2)', 'Accel Z (m/s^2)']:\n",
        "    if col in synthetic_data.columns:\n",
        "        synthetic_data[col] = (\n",
        "            synthetic_data[col]\n",
        "            .astype(str)\n",
        "            .str.extract(r'([-+]?[0-9]*\\.?[0-9]+)')[0]  # extract first numeric\n",
        "            .astype(float)\n",
        "        )\n",
        "\n",
        "# Step 4: Add noise to key numeric fields\n",
        "for col in ['SpO2 (%)', 'Heart Rate (bpm)', 'Accel X (m/s^2)',\n",
        "            'Accel Y (m/s^2)', 'Accel Z (m/s^2)', 'UV Rate']:\n",
        "    if col in synthetic_data.columns:\n",
        "        try:\n",
        "            noise = np.random.normal(0, 0.5, size=synthetic_data[col].shape)\n",
        "            synthetic_data[col] += noise\n",
        "        except Exception as e:\n",
        "            print(f\"Could not add noise to {col}: {e}\")\n",
        "\n",
        "# Step 5: Save final dataset\n",
        "synthetic_data.to_csv(\"augmented_health_band_data.csv\", index=False)\n",
        "print(\"✅ Augmented dataset generated and saved as 'augmented_health_band_data.csv'\")"
      ]
    },
    {
      "cell_type": "code",
      "execution_count": null,
      "metadata": {
        "colab": {
          "base_uri": "https://localhost:8080/"
        },
        "id": "rCdkMUPRoZDb",
        "outputId": "da8ee627-eb0a-450e-fa86-b23cfb4f8161"
      },
      "outputs": [
        {
          "name": "stdout",
          "output_type": "stream",
          "text": [
            "✅ Final dataset with gyroscope, body temperature, and UV rate saved as 'complete_healthband_dataset.csv'\n"
          ]
        }
      ],
      "source": [
        "# Step 2: Create synthetic data matching the number of rows in df2\n",
        "num_samples = len(df2)\n",
        "synthetic_data = pd.DataFrame()\n",
        "\n",
        "# Step 3: Copy core health-band data\n",
        "synthetic_data = df2.reset_index(drop=True)\n",
        "\n",
        "# Step 4: Add synthetic 'UV Rate' (range 0 to 12 for UV index)\n",
        "np.random.seed(42)\n",
        "synthetic_data['UV Rate'] = np.random.uniform(0, 12, size=num_samples)\n",
        "\n",
        "# Step 5: Add synthetic 'Gyro X', 'Gyro Y', 'Gyro Z' values (degrees/sec)\n",
        "synthetic_data['Gyro X (°/s)'] = np.random.normal(0, 50, size=num_samples)\n",
        "synthetic_data['Gyro Y (°/s)'] = np.random.normal(0, 50, size=num_samples)\n",
        "synthetic_data['Gyro Z (°/s)'] = np.random.normal(0, 50, size=num_samples)\n",
        "\n",
        "# Step 6: Add synthetic 'Body Temperature (°C)' (between 36.0°C to 38.5°C)\n",
        "synthetic_data['Body Temp (°C)'] = np.random.normal(36.8, 0.5, size=num_samples)\n",
        "\n",
        "# Step 7: Clean acceleration values (in case they are strings like \"[0.12 0.34 0.56]\")\n",
        "for col in ['Accel X (m/s^2)', 'Accel Y (m/s^2)', 'Accel Z (m/s^2)']:\n",
        "    if col in synthetic_data.columns:\n",
        "        synthetic_data[col] = (\n",
        "            synthetic_data[col]\n",
        "            .astype(str)\n",
        "            .str.extract(r'([-+]?[0-9]*\\.?[0-9]+)')[0]\n",
        "            .astype(float)\n",
        "        )\n",
        "\n",
        "# Step 8: Add small noise to simulate new readings\n",
        "for col in ['SpO2 (%)', 'Heart Rate (bpm)', 'Accel X (m/s^2)',\n",
        "            'Accel Y (m/s^2)', 'Accel Z (m/s^2)', 'UV Rate',\n",
        "            'Gyro X (°/s)', 'Gyro Y (°/s)', 'Gyro Z (°/s)', 'Body Temp (°C)']:\n",
        "    if col in synthetic_data.columns:\n",
        "        try:\n",
        "            noise = np.random.normal(0, 0.5, size=synthetic_data[col].shape)\n",
        "            synthetic_data[col] += noise\n",
        "        except Exception as e:\n",
        "            print(f\"Could not add noise to {col}: {e}\")\n",
        "\n",
        "# Step 9: Save the final synthetic dataset\n",
        "synthetic_data.to_csv(\"complete_healthband_dataset.csv\", index=False)\n",
        "print(\"✅ Final dataset with gyroscope, body temperature, and UV rate saved as 'complete_healthband_dataset.csv'\")"
      ]
    },
    {
      "cell_type": "code",
      "execution_count": null,
      "metadata": {
        "colab": {
          "base_uri": "https://localhost:8080/",
          "height": 224
        },
        "id": "5pCmPhkTob9s",
        "outputId": "2343357f-26f9-446a-9018-3b76451ac60e"
      },
      "outputs": [
        {
          "data": {
            "application/vnd.google.colaboratory.intrinsic+json": {
              "summary": "{\n  \"name\": \"df\",\n  \"rows\": 50000,\n  \"fields\": [\n    {\n      \"column\": \"Time (s)\",\n      \"properties\": {\n        \"dtype\": \"number\",\n        \"std\": 14433,\n        \"min\": 0,\n        \"max\": 49999,\n        \"num_unique_values\": 50000,\n        \"samples\": [\n          33553,\n          9427,\n          199\n        ],\n        \"semantic_type\": \"\",\n        \"description\": \"\"\n      }\n    },\n    {\n      \"column\": \"Age\",\n      \"properties\": {\n        \"dtype\": \"number\",\n        \"std\": 20,\n        \"min\": 18,\n        \"max\": 89,\n        \"num_unique_values\": 72,\n        \"samples\": [\n          68,\n          79,\n          47\n        ],\n        \"semantic_type\": \"\",\n        \"description\": \"\"\n      }\n    },\n    {\n      \"column\": \"SpO2 (%)\",\n      \"properties\": {\n        \"dtype\": \"number\",\n        \"std\": 1.5306758998631311,\n        \"min\": 93.40275463960708,\n        \"max\": 101.54613206287038,\n        \"num_unique_values\": 50000,\n        \"samples\": [\n          97.57381022474604,\n          95.47263889341129,\n          95.8568361848344\n        ],\n        \"semantic_type\": \"\",\n        \"description\": \"\"\n      }\n    },\n    {\n      \"column\": \"Heart Rate (bpm)\",\n      \"properties\": {\n        \"dtype\": \"number\",\n        \"std\": 11.611180671855537,\n        \"min\": 58.43382111456111,\n        \"max\": 101.26140077146896,\n        \"num_unique_values\": 50000,\n        \"samples\": [\n          96.78557841331406,\n          63.49644185649952,\n          95.5771163358396\n        ],\n        \"semantic_type\": \"\",\n        \"description\": \"\"\n      }\n    },\n    {\n      \"column\": \"IR Value\",\n      \"properties\": {\n        \"dtype\": \"number\",\n        \"std\": 2889.8525387533195,\n        \"min\": 50000.56,\n        \"max\": 59999.74,\n        \"num_unique_values\": 48804,\n        \"samples\": [\n          51778.26,\n          53104.82,\n          52654.62\n        ],\n        \"semantic_type\": \"\",\n        \"description\": \"\"\n      }\n    },\n    {\n      \"column\": \"Red Value\",\n      \"properties\": {\n        \"dtype\": \"number\",\n        \"std\": 2874.6841150057844,\n        \"min\": 50000.12,\n        \"max\": 59999.66,\n        \"num_unique_values\": 48785,\n        \"samples\": [\n          54003.48,\n          50180.31,\n          51087.19\n        ],\n        \"semantic_type\": \"\",\n        \"description\": \"\"\n      }\n    },\n    {\n      \"column\": \"Accel X (m/s^2)\",\n      \"properties\": {\n        \"dtype\": \"number\",\n        \"std\": 0.5104866889391482,\n        \"min\": -1.9864864593745808,\n        \"max\": 1.9336639217057623,\n        \"num_unique_values\": 50000,\n        \"samples\": [\n          -0.1475262068401926,\n          -0.3162217884146961,\n          -0.3609287342205418\n        ],\n        \"semantic_type\": \"\",\n        \"description\": \"\"\n      }\n    },\n    {\n      \"column\": \"Accel Y (m/s^2)\",\n      \"properties\": {\n        \"dtype\": \"number\",\n        \"std\": 0.5122020905906818,\n        \"min\": -2.262147301321689,\n        \"max\": 2.050923871362699,\n        \"num_unique_values\": 50000,\n        \"samples\": [\n          0.1312265805065083,\n          0.7783633456119115,\n          0.4794976240184124\n        ],\n        \"semantic_type\": \"\",\n        \"description\": \"\"\n      }\n    },\n    {\n      \"column\": \"Accel Z (m/s^2)\",\n      \"properties\": {\n        \"dtype\": \"number\",\n        \"std\": 0.5096597623698256,\n        \"min\": 7.215281995744422,\n        \"max\": 11.831703233928163,\n        \"num_unique_values\": 50000,\n        \"samples\": [\n          10.036541668484894,\n          9.715821627105498,\n          10.19429745831012\n        ],\n        \"semantic_type\": \"\",\n        \"description\": \"\"\n      }\n    },\n    {\n      \"column\": \"UV Rate\",\n      \"properties\": {\n        \"dtype\": \"number\",\n        \"std\": 3.4968478029132397,\n        \"min\": -1.3369755636222722,\n        \"max\": 13.52818472402261,\n        \"num_unique_values\": 50000,\n        \"samples\": [\n          3.0755197934053893,\n          9.886453086308585,\n          9.158883614274025\n        ],\n        \"semantic_type\": \"\",\n        \"description\": \"\"\n      }\n    },\n    {\n      \"column\": \"Gyro X (\\u00b0/s)\",\n      \"properties\": {\n        \"dtype\": \"number\",\n        \"std\": 50.09320898434411,\n        \"min\": -223.59805657900455,\n        \"max\": 192.52780477445253,\n        \"num_unique_values\": 50000,\n        \"samples\": [\n          -50.0769147657208,\n          -36.34510986702481,\n          -58.92163433844693\n        ],\n        \"semantic_type\": \"\",\n        \"description\": \"\"\n      }\n    },\n    {\n      \"column\": \"Gyro Y (\\u00b0/s)\",\n      \"properties\": {\n        \"dtype\": \"number\",\n        \"std\": 50.00573168874701,\n        \"min\": -200.2406330939557,\n        \"max\": 210.5050235462546,\n        \"num_unique_values\": 50000,\n        \"samples\": [\n          6.053699981479931,\n          22.498744728460448,\n          -91.5922467217051\n        ],\n        \"semantic_type\": \"\",\n        \"description\": \"\"\n      }\n    },\n    {\n      \"column\": \"Gyro Z (\\u00b0/s)\",\n      \"properties\": {\n        \"dtype\": \"number\",\n        \"std\": 49.87091870178513,\n        \"min\": -219.2238940267953,\n        \"max\": 228.0242328930571,\n        \"num_unique_values\": 50000,\n        \"samples\": [\n          13.422990272027334,\n          -51.79939232414252,\n          -4.35139520729558\n        ],\n        \"semantic_type\": \"\",\n        \"description\": \"\"\n      }\n    },\n    {\n      \"column\": \"Body Temp (\\u00b0C)\",\n      \"properties\": {\n        \"dtype\": \"number\",\n        \"std\": 0.7048762020919276,\n        \"min\": 34.0641827287849,\n        \"max\": 39.87494488137054,\n        \"num_unique_values\": 50000,\n        \"samples\": [\n          38.303947219859225,\n          35.60983200446879,\n          36.309546048836495\n        ],\n        \"semantic_type\": \"\",\n        \"description\": \"\"\n      }\n    }\n  ]\n}",
              "type": "dataframe",
              "variable_name": "df"
            },
            "text/html": [
              "\n",
              "  <div id=\"df-73135572-8c82-4c9c-aad7-27d027ef6d5a\" class=\"colab-df-container\">\n",
              "    <div>\n",
              "<style scoped>\n",
              "    .dataframe tbody tr th:only-of-type {\n",
              "        vertical-align: middle;\n",
              "    }\n",
              "\n",
              "    .dataframe tbody tr th {\n",
              "        vertical-align: top;\n",
              "    }\n",
              "\n",
              "    .dataframe thead th {\n",
              "        text-align: right;\n",
              "    }\n",
              "</style>\n",
              "<table border=\"1\" class=\"dataframe\">\n",
              "  <thead>\n",
              "    <tr style=\"text-align: right;\">\n",
              "      <th></th>\n",
              "      <th>Time (s)</th>\n",
              "      <th>Age</th>\n",
              "      <th>SpO2 (%)</th>\n",
              "      <th>Heart Rate (bpm)</th>\n",
              "      <th>IR Value</th>\n",
              "      <th>Red Value</th>\n",
              "      <th>Accel X (m/s^2)</th>\n",
              "      <th>Accel Y (m/s^2)</th>\n",
              "      <th>Accel Z (m/s^2)</th>\n",
              "      <th>UV Rate</th>\n",
              "      <th>Gyro X (°/s)</th>\n",
              "      <th>Gyro Y (°/s)</th>\n",
              "      <th>Gyro Z (°/s)</th>\n",
              "      <th>Body Temp (°C)</th>\n",
              "    </tr>\n",
              "  </thead>\n",
              "  <tbody>\n",
              "    <tr>\n",
              "      <th>0</th>\n",
              "      <td>0</td>\n",
              "      <td>30</td>\n",
              "      <td>98.198781</td>\n",
              "      <td>75.748334</td>\n",
              "      <td>53812.52</td>\n",
              "      <td>51748.40</td>\n",
              "      <td>-0.317389</td>\n",
              "      <td>0.745340</td>\n",
              "      <td>8.742869</td>\n",
              "      <td>5.025164</td>\n",
              "      <td>-0.508005</td>\n",
              "      <td>-4.348929</td>\n",
              "      <td>78.924119</td>\n",
              "      <td>37.615172</td>\n",
              "    </tr>\n",
              "    <tr>\n",
              "      <th>1</th>\n",
              "      <td>1</td>\n",
              "      <td>87</td>\n",
              "      <td>96.684558</td>\n",
              "      <td>94.780630</td>\n",
              "      <td>58730.69</td>\n",
              "      <td>58918.98</td>\n",
              "      <td>-0.512327</td>\n",
              "      <td>0.550623</td>\n",
              "      <td>9.941633</td>\n",
              "      <td>11.321112</td>\n",
              "      <td>60.418464</td>\n",
              "      <td>75.291782</td>\n",
              "      <td>-37.360917</td>\n",
              "      <td>36.158286</td>\n",
              "    </tr>\n",
              "    <tr>\n",
              "      <th>2</th>\n",
              "      <td>2</td>\n",
              "      <td>28</td>\n",
              "      <td>99.441363</td>\n",
              "      <td>88.838206</td>\n",
              "      <td>54522.53</td>\n",
              "      <td>50766.90</td>\n",
              "      <td>0.782261</td>\n",
              "      <td>0.675553</td>\n",
              "      <td>10.056615</td>\n",
              "      <td>8.809588</td>\n",
              "      <td>31.212191</td>\n",
              "      <td>-79.925220</td>\n",
              "      <td>-18.981872</td>\n",
              "      <td>37.081527</td>\n",
              "    </tr>\n",
              "    <tr>\n",
              "      <th>3</th>\n",
              "      <td>3</td>\n",
              "      <td>86</td>\n",
              "      <td>95.389850</td>\n",
              "      <td>63.092013</td>\n",
              "      <td>58543.23</td>\n",
              "      <td>50466.21</td>\n",
              "      <td>-0.870726</td>\n",
              "      <td>-0.155307</td>\n",
              "      <td>9.225347</td>\n",
              "      <td>7.011678</td>\n",
              "      <td>-39.948618</td>\n",
              "      <td>9.355200</td>\n",
              "      <td>68.746907</td>\n",
              "      <td>37.692988</td>\n",
              "    </tr>\n",
              "    <tr>\n",
              "      <th>4</th>\n",
              "      <td>4</td>\n",
              "      <td>68</td>\n",
              "      <td>95.159259</td>\n",
              "      <td>83.896672</td>\n",
              "      <td>52571.98</td>\n",
              "      <td>54985.53</td>\n",
              "      <td>-0.438775</td>\n",
              "      <td>0.711295</td>\n",
              "      <td>9.934161</td>\n",
              "      <td>2.054155</td>\n",
              "      <td>88.816928</td>\n",
              "      <td>-48.356043</td>\n",
              "      <td>83.643075</td>\n",
              "      <td>36.162242</td>\n",
              "    </tr>\n",
              "  </tbody>\n",
              "</table>\n",
              "</div>\n",
              "    <div class=\"colab-df-buttons\">\n",
              "\n",
              "  <div class=\"colab-df-container\">\n",
              "    <button class=\"colab-df-convert\" onclick=\"convertToInteractive('df-73135572-8c82-4c9c-aad7-27d027ef6d5a')\"\n",
              "            title=\"Convert this dataframe to an interactive table.\"\n",
              "            style=\"display:none;\">\n",
              "\n",
              "  <svg xmlns=\"http://www.w3.org/2000/svg\" height=\"24px\" viewBox=\"0 -960 960 960\">\n",
              "    <path d=\"M120-120v-720h720v720H120Zm60-500h600v-160H180v160Zm220 220h160v-160H400v160Zm0 220h160v-160H400v160ZM180-400h160v-160H180v160Zm440 0h160v-160H620v160ZM180-180h160v-160H180v160Zm440 0h160v-160H620v160Z\"/>\n",
              "  </svg>\n",
              "    </button>\n",
              "\n",
              "  <style>\n",
              "    .colab-df-container {\n",
              "      display:flex;\n",
              "      gap: 12px;\n",
              "    }\n",
              "\n",
              "    .colab-df-convert {\n",
              "      background-color: #E8F0FE;\n",
              "      border: none;\n",
              "      border-radius: 50%;\n",
              "      cursor: pointer;\n",
              "      display: none;\n",
              "      fill: #1967D2;\n",
              "      height: 32px;\n",
              "      padding: 0 0 0 0;\n",
              "      width: 32px;\n",
              "    }\n",
              "\n",
              "    .colab-df-convert:hover {\n",
              "      background-color: #E2EBFA;\n",
              "      box-shadow: 0px 1px 2px rgba(60, 64, 67, 0.3), 0px 1px 3px 1px rgba(60, 64, 67, 0.15);\n",
              "      fill: #174EA6;\n",
              "    }\n",
              "\n",
              "    .colab-df-buttons div {\n",
              "      margin-bottom: 4px;\n",
              "    }\n",
              "\n",
              "    [theme=dark] .colab-df-convert {\n",
              "      background-color: #3B4455;\n",
              "      fill: #D2E3FC;\n",
              "    }\n",
              "\n",
              "    [theme=dark] .colab-df-convert:hover {\n",
              "      background-color: #434B5C;\n",
              "      box-shadow: 0px 1px 3px 1px rgba(0, 0, 0, 0.15);\n",
              "      filter: drop-shadow(0px 1px 2px rgba(0, 0, 0, 0.3));\n",
              "      fill: #FFFFFF;\n",
              "    }\n",
              "  </style>\n",
              "\n",
              "    <script>\n",
              "      const buttonEl =\n",
              "        document.querySelector('#df-73135572-8c82-4c9c-aad7-27d027ef6d5a button.colab-df-convert');\n",
              "      buttonEl.style.display =\n",
              "        google.colab.kernel.accessAllowed ? 'block' : 'none';\n",
              "\n",
              "      async function convertToInteractive(key) {\n",
              "        const element = document.querySelector('#df-73135572-8c82-4c9c-aad7-27d027ef6d5a');\n",
              "        const dataTable =\n",
              "          await google.colab.kernel.invokeFunction('convertToInteractive',\n",
              "                                                    [key], {});\n",
              "        if (!dataTable) return;\n",
              "\n",
              "        const docLinkHtml = 'Like what you see? Visit the ' +\n",
              "          '<a target=\"_blank\" href=https://colab.research.google.com/notebooks/data_table.ipynb>data table notebook</a>'\n",
              "          + ' to learn more about interactive tables.';\n",
              "        element.innerHTML = '';\n",
              "        dataTable['output_type'] = 'display_data';\n",
              "        await google.colab.output.renderOutput(dataTable, element);\n",
              "        const docLink = document.createElement('div');\n",
              "        docLink.innerHTML = docLinkHtml;\n",
              "        element.appendChild(docLink);\n",
              "      }\n",
              "    </script>\n",
              "  </div>\n",
              "\n",
              "\n",
              "    <div id=\"df-a9d39026-c943-4fe6-8c43-0297e94a9e86\">\n",
              "      <button class=\"colab-df-quickchart\" onclick=\"quickchart('df-a9d39026-c943-4fe6-8c43-0297e94a9e86')\"\n",
              "                title=\"Suggest charts\"\n",
              "                style=\"display:none;\">\n",
              "\n",
              "<svg xmlns=\"http://www.w3.org/2000/svg\" height=\"24px\"viewBox=\"0 0 24 24\"\n",
              "     width=\"24px\">\n",
              "    <g>\n",
              "        <path d=\"M19 3H5c-1.1 0-2 .9-2 2v14c0 1.1.9 2 2 2h14c1.1 0 2-.9 2-2V5c0-1.1-.9-2-2-2zM9 17H7v-7h2v7zm4 0h-2V7h2v10zm4 0h-2v-4h2v4z\"/>\n",
              "    </g>\n",
              "</svg>\n",
              "      </button>\n",
              "\n",
              "<style>\n",
              "  .colab-df-quickchart {\n",
              "      --bg-color: #E8F0FE;\n",
              "      --fill-color: #1967D2;\n",
              "      --hover-bg-color: #E2EBFA;\n",
              "      --hover-fill-color: #174EA6;\n",
              "      --disabled-fill-color: #AAA;\n",
              "      --disabled-bg-color: #DDD;\n",
              "  }\n",
              "\n",
              "  [theme=dark] .colab-df-quickchart {\n",
              "      --bg-color: #3B4455;\n",
              "      --fill-color: #D2E3FC;\n",
              "      --hover-bg-color: #434B5C;\n",
              "      --hover-fill-color: #FFFFFF;\n",
              "      --disabled-bg-color: #3B4455;\n",
              "      --disabled-fill-color: #666;\n",
              "  }\n",
              "\n",
              "  .colab-df-quickchart {\n",
              "    background-color: var(--bg-color);\n",
              "    border: none;\n",
              "    border-radius: 50%;\n",
              "    cursor: pointer;\n",
              "    display: none;\n",
              "    fill: var(--fill-color);\n",
              "    height: 32px;\n",
              "    padding: 0;\n",
              "    width: 32px;\n",
              "  }\n",
              "\n",
              "  .colab-df-quickchart:hover {\n",
              "    background-color: var(--hover-bg-color);\n",
              "    box-shadow: 0 1px 2px rgba(60, 64, 67, 0.3), 0 1px 3px 1px rgba(60, 64, 67, 0.15);\n",
              "    fill: var(--button-hover-fill-color);\n",
              "  }\n",
              "\n",
              "  .colab-df-quickchart-complete:disabled,\n",
              "  .colab-df-quickchart-complete:disabled:hover {\n",
              "    background-color: var(--disabled-bg-color);\n",
              "    fill: var(--disabled-fill-color);\n",
              "    box-shadow: none;\n",
              "  }\n",
              "\n",
              "  .colab-df-spinner {\n",
              "    border: 2px solid var(--fill-color);\n",
              "    border-color: transparent;\n",
              "    border-bottom-color: var(--fill-color);\n",
              "    animation:\n",
              "      spin 1s steps(1) infinite;\n",
              "  }\n",
              "\n",
              "  @keyframes spin {\n",
              "    0% {\n",
              "      border-color: transparent;\n",
              "      border-bottom-color: var(--fill-color);\n",
              "      border-left-color: var(--fill-color);\n",
              "    }\n",
              "    20% {\n",
              "      border-color: transparent;\n",
              "      border-left-color: var(--fill-color);\n",
              "      border-top-color: var(--fill-color);\n",
              "    }\n",
              "    30% {\n",
              "      border-color: transparent;\n",
              "      border-left-color: var(--fill-color);\n",
              "      border-top-color: var(--fill-color);\n",
              "      border-right-color: var(--fill-color);\n",
              "    }\n",
              "    40% {\n",
              "      border-color: transparent;\n",
              "      border-right-color: var(--fill-color);\n",
              "      border-top-color: var(--fill-color);\n",
              "    }\n",
              "    60% {\n",
              "      border-color: transparent;\n",
              "      border-right-color: var(--fill-color);\n",
              "    }\n",
              "    80% {\n",
              "      border-color: transparent;\n",
              "      border-right-color: var(--fill-color);\n",
              "      border-bottom-color: var(--fill-color);\n",
              "    }\n",
              "    90% {\n",
              "      border-color: transparent;\n",
              "      border-bottom-color: var(--fill-color);\n",
              "    }\n",
              "  }\n",
              "</style>\n",
              "\n",
              "      <script>\n",
              "        async function quickchart(key) {\n",
              "          const quickchartButtonEl =\n",
              "            document.querySelector('#' + key + ' button');\n",
              "          quickchartButtonEl.disabled = true;  // To prevent multiple clicks.\n",
              "          quickchartButtonEl.classList.add('colab-df-spinner');\n",
              "          try {\n",
              "            const charts = await google.colab.kernel.invokeFunction(\n",
              "                'suggestCharts', [key], {});\n",
              "          } catch (error) {\n",
              "            console.error('Error during call to suggestCharts:', error);\n",
              "          }\n",
              "          quickchartButtonEl.classList.remove('colab-df-spinner');\n",
              "          quickchartButtonEl.classList.add('colab-df-quickchart-complete');\n",
              "        }\n",
              "        (() => {\n",
              "          let quickchartButtonEl =\n",
              "            document.querySelector('#df-a9d39026-c943-4fe6-8c43-0297e94a9e86 button');\n",
              "          quickchartButtonEl.style.display =\n",
              "            google.colab.kernel.accessAllowed ? 'block' : 'none';\n",
              "        })();\n",
              "      </script>\n",
              "    </div>\n",
              "\n",
              "    </div>\n",
              "  </div>\n"
            ],
            "text/plain": [
              "   Time (s)  Age   SpO2 (%)  Heart Rate (bpm)  IR Value  Red Value  \\\n",
              "0         0   30  98.198781         75.748334  53812.52   51748.40   \n",
              "1         1   87  96.684558         94.780630  58730.69   58918.98   \n",
              "2         2   28  99.441363         88.838206  54522.53   50766.90   \n",
              "3         3   86  95.389850         63.092013  58543.23   50466.21   \n",
              "4         4   68  95.159259         83.896672  52571.98   54985.53   \n",
              "\n",
              "   Accel X (m/s^2)  Accel Y (m/s^2)  Accel Z (m/s^2)    UV Rate  Gyro X (°/s)  \\\n",
              "0        -0.317389         0.745340         8.742869   5.025164     -0.508005   \n",
              "1        -0.512327         0.550623         9.941633  11.321112     60.418464   \n",
              "2         0.782261         0.675553        10.056615   8.809588     31.212191   \n",
              "3        -0.870726        -0.155307         9.225347   7.011678    -39.948618   \n",
              "4        -0.438775         0.711295         9.934161   2.054155     88.816928   \n",
              "\n",
              "   Gyro Y (°/s)  Gyro Z (°/s)  Body Temp (°C)  \n",
              "0     -4.348929     78.924119       37.615172  \n",
              "1     75.291782    -37.360917       36.158286  \n",
              "2    -79.925220    -18.981872       37.081527  \n",
              "3      9.355200     68.746907       37.692988  \n",
              "4    -48.356043     83.643075       36.162242  "
            ]
          },
          "execution_count": 6,
          "metadata": {},
          "output_type": "execute_result"
        }
      ],
      "source": [
        "import pandas as pd\n",
        "import numpy as np\n",
        "\n",
        "# Step 1: Load the dataset\n",
        "df = pd.read_csv('complete_healthband_dataset.csv')\n",
        "\n",
        "# Step 2: Generate random age values between 18 and 90\n",
        "ages = np.random.randint(18, 90, size=len(df))\n",
        "\n",
        "# Step 3: Insert the Age column after the \"Time (s)\" column\n",
        "df.insert(loc=df.columns.get_loc('Time (s)') + 1, column='Age', value=ages)\n",
        "\n",
        "# Step 4: Display the first few rows to confirm\n",
        "df.head()\n"
      ]
    },
    {
      "cell_type": "code",
      "execution_count": null,
      "metadata": {
        "id": "9cXt9ctAoiFQ"
      },
      "outputs": [],
      "source": [
        "# Save the updated DataFrame to a CSV file\n",
        "df.to_csv('Health_Monitoring_Dataset.csv', index=False)\n"
      ]
    },
    {
      "cell_type": "code",
      "execution_count": null,
      "metadata": {
        "colab": {
          "base_uri": "https://localhost:8080/"
        },
        "id": "d5drnglNon2I",
        "outputId": "ee4876a7-8cef-4841-8475-8f465a962e11"
      },
      "outputs": [
        {
          "name": "stdout",
          "output_type": "stream",
          "text": [
            "   Time (s)  Age   SpO2 (%)  Heart Rate (bpm)  IR Value  Red Value  \\\n",
            "0         0   30  98.198781         75.748334  53812.52   51748.40   \n",
            "1         1   87  96.684558         94.780630  58730.69   58918.98   \n",
            "2         2   28  99.441363         88.838206  54522.53   50766.90   \n",
            "3         3   86  95.389850         63.092013  58543.23   50466.21   \n",
            "4         4   68  95.159259         83.896672  52571.98   54985.53   \n",
            "\n",
            "   Accel X (m/s^2)  Accel Y (m/s^2)  Accel Z (m/s^2)    UV Rate  Gyro X (°/s)  \\\n",
            "0        -0.317389         0.745340         8.742869   5.025164     -0.508005   \n",
            "1        -0.512327         0.550623         9.941633  11.321112     60.418464   \n",
            "2         0.782261         0.675553        10.056615   8.809588     31.212191   \n",
            "3        -0.870726        -0.155307         9.225347   7.011678    -39.948618   \n",
            "4        -0.438775         0.711295         9.934161   2.054155     88.816928   \n",
            "\n",
            "   Gyro Y (°/s)  Gyro Z (°/s)  Body Temp (°C)  \n",
            "0     -4.348929     78.924119       37.615172  \n",
            "1     75.291782    -37.360917       36.158286  \n",
            "2    -79.925220    -18.981872       37.081527  \n",
            "3      9.355200     68.746907       37.692988  \n",
            "4    -48.356043     83.643075       36.162242  \n"
          ]
        }
      ],
      "source": [
        "import pandas as pd\n",
        "\n",
        "# Load your dataset\n",
        "df = pd.read_csv(\"Health_Monitoring_Dataset.csv\")\n",
        "\n",
        "# View first 5 rows\n",
        "print(df.head())\n"
      ]
    },
    {
      "cell_type": "code",
      "execution_count": null,
      "metadata": {
        "colab": {
          "base_uri": "https://localhost:8080/"
        },
        "id": "DA8fOeY0ot_T",
        "outputId": "78e32ff7-3cdc-4945-f45d-4d43539dfcd1"
      },
      "outputs": [
        {
          "name": "stdout",
          "output_type": "stream",
          "text": [
            "Time (s)            0\n",
            "Age                 0\n",
            "SpO2 (%)            0\n",
            "Heart Rate (bpm)    0\n",
            "IR Value            0\n",
            "Red Value           0\n",
            "Accel X (m/s^2)     0\n",
            "Accel Y (m/s^2)     0\n",
            "Accel Z (m/s^2)     0\n",
            "UV Rate             0\n",
            "Gyro X (°/s)        0\n",
            "Gyro Y (°/s)        0\n",
            "Gyro Z (°/s)        0\n",
            "Body Temp (°C)      0\n",
            "dtype: int64\n"
          ]
        }
      ],
      "source": [
        "# Check for missing data\n",
        "print(df.isnull().sum())\n",
        "\n",
        "# Optionally drop or fill missing values\n",
        "df = df.dropna()  # or df.fillna(method=\"ffill\")\n"
      ]
    },
    {
      "cell_type": "code",
      "execution_count": null,
      "metadata": {
        "colab": {
          "base_uri": "https://localhost:8080/",
          "height": 1000
        },
        "id": "ujxCLJGYo5Hm",
        "outputId": "046352c0-fd56-40bd-ff8d-7f02be18fbe3"
      },
      "outputs": [
        {
          "name": "stdout",
          "output_type": "stream",
          "text": [
            "<class 'pandas.core.frame.DataFrame'>\n",
            "RangeIndex: 50000 entries, 0 to 49999\n",
            "Data columns (total 14 columns):\n",
            " #   Column            Non-Null Count  Dtype  \n",
            "---  ------            --------------  -----  \n",
            " 0   Time (s)          50000 non-null  int64  \n",
            " 1   Age               50000 non-null  int64  \n",
            " 2   SpO2 (%)          50000 non-null  float64\n",
            " 3   Heart Rate (bpm)  50000 non-null  float64\n",
            " 4   IR Value          50000 non-null  float64\n",
            " 5   Red Value         50000 non-null  float64\n",
            " 6   Accel X (m/s^2)   50000 non-null  float64\n",
            " 7   Accel Y (m/s^2)   50000 non-null  float64\n",
            " 8   Accel Z (m/s^2)   50000 non-null  float64\n",
            " 9   UV Rate           50000 non-null  float64\n",
            " 10  Gyro X (°/s)      50000 non-null  float64\n",
            " 11  Gyro Y (°/s)      50000 non-null  float64\n",
            " 12  Gyro Z (°/s)      50000 non-null  float64\n",
            " 13  Body Temp (°C)    50000 non-null  float64\n",
            "dtypes: float64(12), int64(2)\n",
            "memory usage: 5.3 MB\n",
            "None\n",
            "           Time (s)           Age      SpO2 (%)  Heart Rate (bpm)  \\\n",
            "count  50000.000000  50000.000000  50000.000000      50000.000000   \n",
            "mean   24999.500000     53.407800     97.505828         79.950766   \n",
            "std    14433.901067     20.724516      1.530676         11.611181   \n",
            "min        0.000000     18.000000     93.402755         58.433821   \n",
            "25%    12499.750000     35.000000     96.246923         69.880053   \n",
            "50%    24999.500000     53.000000     97.514382         79.927184   \n",
            "75%    37499.250000     71.000000     98.762840         90.063697   \n",
            "max    49999.000000     89.000000    101.546132        101.261401   \n",
            "\n",
            "           IR Value     Red Value  Accel X (m/s^2)  Accel Y (m/s^2)  \\\n",
            "count  50000.000000  50000.000000     50000.000000     50000.000000   \n",
            "mean   54977.112353  54972.217710         0.003266        -0.001947   \n",
            "std     2889.852539   2874.684115         0.510487         0.512202   \n",
            "min    50000.560000  50000.120000        -1.986486        -2.262147   \n",
            "25%    52475.182500  52478.002500        -0.343061        -0.348620   \n",
            "50%    54958.430000  54951.105000         0.003625        -0.001347   \n",
            "75%    57478.292500  57458.780000         0.349446         0.344193   \n",
            "max    59999.740000  59999.660000         1.933664         2.050924   \n",
            "\n",
            "       Accel Z (m/s^2)       UV Rate  Gyro X (°/s)  Gyro Y (°/s)  \\\n",
            "count     50000.000000  50000.000000  50000.000000  50000.000000   \n",
            "mean          9.806166      5.984020      0.275357      0.117978   \n",
            "std           0.509660      3.496848     50.093209     50.005732   \n",
            "min           7.215282     -1.336976   -223.598057   -200.240633   \n",
            "25%           9.459744      2.995400    -33.346787    -33.474894   \n",
            "50%           9.803962      5.970409      0.392010      0.031999   \n",
            "75%          10.150145      8.992038     34.020498     33.764966   \n",
            "max          11.831703     13.528185    192.527805    210.505024   \n",
            "\n",
            "       Gyro Z (°/s)  Body Temp (°C)  \n",
            "count  50000.000000    50000.000000  \n",
            "mean      -0.105633       36.800644  \n",
            "std       49.870919        0.704876  \n",
            "min     -219.223894       34.064183  \n",
            "25%      -33.874396       36.328111  \n",
            "50%       -0.213828       36.800891  \n",
            "75%       33.604919       37.273678  \n",
            "max      228.024233       39.874945  \n",
            "Time (s)            0\n",
            "Age                 0\n",
            "SpO2 (%)            0\n",
            "Heart Rate (bpm)    0\n",
            "IR Value            0\n",
            "Red Value           0\n",
            "Accel X (m/s^2)     0\n",
            "Accel Y (m/s^2)     0\n",
            "Accel Z (m/s^2)     0\n",
            "UV Rate             0\n",
            "Gyro X (°/s)        0\n",
            "Gyro Y (°/s)        0\n",
            "Gyro Z (°/s)        0\n",
            "Body Temp (°C)      0\n",
            "dtype: int64\n"
          ]
        },
        {
          "data": {
            "image/png": "[encoded data removed]",
            "text/plain": [
              "<Figure size 1500x800 with 2 Axes>"
            ]
          },
          "metadata": {},
          "output_type": "display_data"
        }
      ],
      "source": [
        "import pandas as pd\n",
        "import matplotlib.pyplot as plt\n",
        "import seaborn as sns\n",
        "\n",
        "# Load the dataset\n",
        "df = pd.read_csv('Health_Monitoring_Dataset.csv')\n",
        "\n",
        "# Basic info\n",
        "print(df.info())\n",
        "print(df.describe())\n",
        "\n",
        "# Check for missing values\n",
        "print(df.isnull().sum())\n",
        "\n",
        "# Correlation Heatmap\n",
        "plt.figure(figsize=(15,8))\n",
        "sns.heatmap(df.corr(), annot=True, cmap='coolwarm')\n",
        "plt.title('Feature Correlation Heatmap')\n",
        "plt.show()\n"
      ]
    },
    {
      "cell_type": "code",
      "execution_count": null,
      "metadata": {
        "colab": {
          "base_uri": "https://localhost:8080/"
        },
        "id": "uX4gjzIzo87i",
        "outputId": "32fbdd04-95cc-43bf-df66-0a16b3662375"
      },
      "outputs": [
        {
          "name": "stdout",
          "output_type": "stream",
          "text": [
            "Health_Risk\n",
            "1    32413\n",
            "2    12109\n",
            "0     5478\n",
            "Name: count, dtype: int64\n"
          ]
        }
      ],
      "source": [
        "def assign_health_risk_fixed(row):\n",
        "    spo2 = row['SpO2 (%)']\n",
        "    hr = row['Heart Rate (bpm)']\n",
        "    temp = row['Body Temp (°C)']\n",
        "    uv = row['UV Rate']\n",
        "    accel = max(abs(row['Accel X (m/s^2)']), abs(row['Accel Y (m/s^2)']), abs(row['Accel Z (m/s^2)']))\n",
        "    gyro = max(abs(row['Gyro X (°/s)']), abs(row['Gyro Y (°/s)']), abs(row['Gyro Z (°/s)']))\n",
        "    age = row['Age']\n",
        "\n",
        "    # Adjusted thresholds\n",
        "    if spo2 < 95 or hr < 60 or hr > 100 or temp > 38.5 or uv > 11 or gyro > 180 or age > 80:\n",
        "        return 2  # High Risk\n",
        "    elif spo2 < 97 or hr < 65 or hr > 90 or temp > 37.5 or uv > 8 or gyro > 100 or age > 60:\n",
        "        return 1  # Medium Risk\n",
        "    else:\n",
        "        return 0  # Low Risk\n",
        "\n",
        "# Re-assign labels\n",
        "df['Health_Risk'] = df.apply(assign_health_risk_fixed, axis=1)\n",
        "print(df['Health_Risk'].value_counts())\n"
      ]
    },
    {
      "cell_type": "code",
      "execution_count": null,
      "metadata": {
        "id": "E81_Aql_pChE"
      },
      "outputs": [],
      "source": [
        "df.to_csv('Updated_Health_Monitoring_Dataset.csv', index=False)"
      ]
    },
    {
      "cell_type": "code",
      "execution_count": null,
      "metadata": {
        "colab": {
          "base_uri": "https://localhost:8080/"
        },
        "id": "ipSvPU4ykmnX",
        "outputId": "86af5cd0-a202-47d9-eef8-d298ec4ec279"
      },
      "outputs": [
        {
          "name": "stdout",
          "output_type": "stream",
          "text": [
            "   Time (s)  Age   SpO2 (%)  Heart Rate (bpm)  Systolic BP (mmHg)  \\\n",
            "0         0   30  98.198781         75.748334                 141   \n",
            "1         1   87  96.684558         94.780630                 104   \n",
            "2         2   28  99.441363         88.838206                 161   \n",
            "3         3   86  95.389850         63.092013                 150   \n",
            "4         4   68  95.159259         83.896672                 110   \n",
            "\n",
            "   Diastolic BP (mmHg)  IR Value  Red Value  Accel X (m/s^2)  Accel Y (m/s^2)  \\\n",
            "0                  116  53812.52   51748.40        -0.317389         0.745340   \n",
            "1                  101  58730.69   58918.98        -0.512327         0.550623   \n",
            "2                   68  54522.53   50766.90         0.782261         0.675553   \n",
            "3                   72  58543.23   50466.21        -0.870726        -0.155307   \n",
            "4                  102  52571.98   54985.53        -0.438775         0.711295   \n",
            "\n",
            "   Accel Z (m/s^2)    UV Rate  Gyro X (°/s)  Gyro Y (°/s)  Gyro Z (°/s)  \\\n",
            "0         8.742869   5.025164     -0.508005     -4.348929     78.924119   \n",
            "1         9.941633  11.321112     60.418464     75.291782    -37.360917   \n",
            "2        10.056615   8.809588     31.212191    -79.925220    -18.981872   \n",
            "3         9.225347   7.011678    -39.948618      9.355200     68.746907   \n",
            "4         9.934161   2.054155     88.816928    -48.356043     83.643075   \n",
            "\n",
            "   Body Temp (°C)  Health_Risk  \n",
            "0       37.615172            1  \n",
            "1       36.158286            2  \n",
            "2       37.081527            1  \n",
            "3       37.692988            2  \n",
            "4       36.162242            1  \n",
            "✅ Blood Pressure data added successfully after Heart Rate and saved.\n"
          ]
        }
      ],
      "source": [
        "import pandas as pd\n",
        "import numpy as np\n",
        "\n",
        "# Load the existing dataset\n",
        "df = pd.read_csv('Updated_Health_Monitoring_Dataset.csv')\n",
        "\n",
        "# Step 1: Generate synthetic blood pressure data (for example, systolic and diastolic values)\n",
        "np.random.seed(42)\n",
        "df['Systolic BP (mmHg)'] = np.random.randint(90, 180, size=len(df))\n",
        "df['Diastolic BP (mmHg)'] = np.random.randint(60, 120, size=len(df))\n",
        "\n",
        "# Step 2: Reorder columns so blood pressure comes after heart rate\n",
        "# Assuming the 'Heart Rate' column exists in the dataset\n",
        "heart_rate_index = df.columns.get_loc('Heart Rate (bpm)')\n",
        "cols = list(df.columns)\n",
        "\n",
        "# Insert the new columns (Systolic and Diastolic BP) after the 'Heart Rate' column\n",
        "cols.insert(heart_rate_index + 1, cols.pop(cols.index('Systolic BP (mmHg)')))\n",
        "cols.insert(heart_rate_index + 2, cols.pop(cols.index('Diastolic BP (mmHg)')))\n",
        "\n",
        "# Reorder the dataframe with the updated column order\n",
        "df = df[cols]\n",
        "\n",
        "# Step 3: Display the first few rows to confirm the addition\n",
        "print(df.head())\n",
        "\n",
        "# Step 4: Save the updated DataFrame to a new CSV file\n",
        "df.to_csv('Health_Alert_System.csv', index=False)\n",
        "\n",
        "print(\"✅ Blood Pressure data added successfully after Heart Rate and saved.\")\n"
      ]
    },
    {
      "cell_type": "code",
      "execution_count": null,
      "metadata": {
        "colab": {
          "base_uri": "https://localhost:8080/"
        },
        "id": "nKDXW0TXpEfQ",
        "outputId": "6995c683-0f7e-41c4-dcc0-0b6f2eb77c83"
      },
      "outputs": [
        {
          "name": "stdout",
          "output_type": "stream",
          "text": [
            "['Time (s)', 'Age', 'SpO2 (%)', 'Heart Rate (bpm)', 'Systolic BP (mmHg)', 'Diastolic BP (mmHg)', 'IR Value', 'Red Value', 'Accel X (m/s^2)', 'Accel Y (m/s^2)', 'Accel Z (m/s^2)', 'UV Rate', 'Gyro X (°/s)', 'Gyro Y (°/s)', 'Gyro Z (°/s)', 'Body Temp (°C)', 'Health_Risk']\n"
          ]
        }
      ],
      "source": [
        "print(df.columns.tolist())\n",
        "df.columns = df.columns.str.strip()\n",
        "X = df.drop(['Time (s)', 'IR Value', 'Red Value', 'Health_Risk'], axis=1)\n",
        "y = df['Health_Risk']\n"
      ]
    },
    {
      "cell_type": "code",
      "execution_count": null,
      "metadata": {
        "colab": {
          "base_uri": "https://localhost:8080/"
        },
        "id": "8zmqb3L6pMM4",
        "outputId": "49434278-1ff1-475b-a453-f3df0152dde4"
      },
      "outputs": [
        {
          "name": "stdout",
          "output_type": "stream",
          "text": [
            "Classification Report:\n",
            "               precision    recall  f1-score   support\n",
            "\n",
            "           0     0.8568    1.0000    0.9229      1095\n",
            "           1     0.9962    0.9719    0.9839      6483\n",
            "           2     1.0000    0.9897    0.9948      2422\n",
            "\n",
            "    accuracy                         0.9793     10000\n",
            "   macro avg     0.9510    0.9872    0.9672     10000\n",
            "weighted avg     0.9819    0.9793    0.9799     10000\n",
            "\n",
            "Accuracy: 0.9793\n"
          ]
        }
      ],
      "source": [
        "import pandas as pd\n",
        "from sklearn.ensemble import RandomForestClassifier, VotingClassifier\n",
        "from sklearn.tree import DecisionTreeClassifier\n",
        "from sklearn.model_selection import train_test_split\n",
        "from sklearn.metrics import classification_report, accuracy_score\n",
        "import pickle\n",
        "\n",
        "# Load the dataset\n",
        "df = pd.read_csv('Health_Alert_System.csv')\n",
        "\n",
        "# Define features and target\n",
        "X = df.drop(['Time (s)', 'IR Value', 'Red Value', 'Health_Risk'], axis=1)\n",
        "y = df['Health_Risk']\n",
        "\n",
        "# Train-test split with stratification\n",
        "X_train, X_test, y_train, y_test = train_test_split(\n",
        "    X, y, test_size=0.2, stratify=y, random_state=42)\n",
        "\n",
        "# Tune Random Forest and Decision Tree to prevent overfitting\n",
        "rf = RandomForestClassifier(\n",
        "    n_estimators=50, max_depth=10, class_weight='balanced', random_state=42)\n",
        "dt = DecisionTreeClassifier(\n",
        "    max_depth=8, class_weight='balanced', random_state=42)\n",
        "\n",
        "# Create hybrid model\n",
        "hybrid_model = VotingClassifier(estimators=[\n",
        "    ('random_forest', rf),\n",
        "    ('decision_tree', dt)\n",
        "], voting='soft')\n",
        "\n",
        "# Train the model\n",
        "hybrid_model.fit(X_train, y_train)\n",
        "\n",
        "# Predict and evaluate\n",
        "y_pred = hybrid_model.predict(X_test)\n",
        "print(\"Classification Report:\\n\", classification_report(y_test, y_pred, digits=4))\n",
        "print(\"Accuracy:\", round(accuracy_score(y_test, y_pred), 4))\n",
        "\n",
        "# Save the model\n",
        "with open('hybrid_health_alert_model.pkl', 'wb') as f:\n",
        "    pickle.dump(hybrid_model, f)\n",
        "\n",
        "# Save the feature column names\n",
        "with open('feature_columns.pkl', 'wb') as f:\n",
        "    pickle.dump(list(X.columns), f)\n"
      ]
    },
    {
      "cell_type": "code",
      "execution_count": null,
      "metadata": {
        "colab": {
          "base_uri": "https://localhost:8080/"
        },
        "id": "JW1X30wQvfF4",
        "outputId": "48769bc6-9420-4840-d5b2-493d39f735c0"
      },
      "outputs": [
        {
          "name": "stdout",
          "output_type": "stream",
          "text": [
            "\n",
            "KNN Classification Report:\n",
            "               precision    recall  f1-score   support\n",
            "\n",
            "           0     0.2849    0.2274    0.2529      1095\n",
            "           1     0.7097    0.8598    0.7776      6483\n",
            "           2     0.6855    0.3600    0.4721      2422\n",
            "\n",
            "    accuracy                         0.6695     10000\n",
            "   macro avg     0.5600    0.4824    0.5009     10000\n",
            "weighted avg     0.6573    0.6695    0.6461     10000\n",
            "\n",
            "KNN Accuracy: 0.6695\n"
          ]
        }
      ],
      "source": [
        "import pandas as pd\n",
        "import pickle\n",
        "from sklearn.model_selection import train_test_split\n",
        "from sklearn.metrics import classification_report, accuracy_score\n",
        "\n",
        "# Models\n",
        "from sklearn.ensemble import RandomForestClassifier, GradientBoostingClassifier\n",
        "from sklearn.tree import DecisionTreeClassifier\n",
        "from sklearn.svm import SVC\n",
        "from sklearn.neighbors import KNeighborsClassifier\n",
        "\n",
        "# Load the dataset\n",
        "df = pd.read_csv('Health_Alert_System.csv')\n",
        "\n",
        "# Define features and target\n",
        "X = df.drop(['Time (s)', 'IR Value', 'Red Value', 'Health_Risk'], axis=1)\n",
        "y = df['Health_Risk']\n",
        "\n",
        "# Train-test split with stratification\n",
        "X_train, X_test, y_train, y_test = train_test_split(\n",
        "    X, y, test_size=0.2, stratify=y, random_state=42)\n",
        "\n",
        "# ================= KNN =================\n",
        "knn = KNeighborsClassifier(n_neighbors=5)\n",
        "knn.fit(X_train, y_train)\n",
        "y_pred_knn = knn.predict(X_test)\n",
        "print(\"\\nKNN Classification Report:\\n\", classification_report(y_test, y_pred_knn, digits=4))\n",
        "print(\"KNN Accuracy:\", round(accuracy_score(y_test, y_pred_knn), 4))\n",
        "with open('knn_model.pkl', 'wb') as f:\n",
        "    pickle.dump(knn, f)\n",
        "\n"
      ]
    },
    {
      "cell_type": "code",
      "execution_count": null,
      "metadata": {
        "id": "JXe1TxpdwJzn"
      },
      "outputs": [],
      "source": [
        "# ================= SVM =================\n",
        "svm = SVC(kernel='rbf', probability=True, class_weight='balanced', random_state=42)\n",
        "svm.fit(X_train, y_train)\n",
        "y_pred_svm = svm.predict(X_test)\n",
        "print(\"\\nSVM Classification Report:\\n\", classification_report(y_test, y_pred_svm, digits=4))\n",
        "print(\"SVM Accuracy:\", round(accuracy_score(y_test, y_pred_svm), 4))\n",
        "with open('svm_model.pkl', 'wb') as f:\n",
        "    pickle.dump(svm, f)\n",
        "\n"
      ]
    },
    {
      "cell_type": "code",
      "execution_count": null,
      "metadata": {
        "id": "isDyFfKo1O93"
      },
      "outputs": [],
      "source": [
        "from sklearn.ensemble import RandomForestClassifier, GradientBoostingClassifier\n",
        "from sklearn.tree import DecisionTreeClassifier\n",
        "from sklearn.metrics import classification_report, accuracy_score\n",
        "import pickle\n",
        "\n",
        "\n",
        "\n",
        "# ========== Random Forest (Weaker Settings) ==========\n",
        "rf = RandomForestClassifier(n_estimators=10, max_depth=3, class_weight=None, random_state=42)\n",
        "rf.fit(X_train, y_train)\n",
        "y_pred_rf = rf.predict(X_test)\n",
        "print(\"\\nRandom Forest (Weaker) Classification Report:\\n\", classification_report(y_test, y_pred_rf, digits=4))\n",
        "print(\"Random Forest Accuracy:\", round(accuracy_score(y_test, y_pred_rf), 4))\n",
        "with open('random_forest_weak_model.pkl', 'wb') as f:\n",
        "    pickle.dump(rf, f)\n",
        "\n",
        "# ========== Decision Tree (Weaker Settings) ==========\n",
        "dt = DecisionTreeClassifier(max_depth=3, class_weight=None, random_state=42)\n",
        "dt.fit(X_train, y_train)\n",
        "y_pred_dt = dt.predict(X_test)\n",
        "print(\"\\nDecision Tree (Weaker) Classification Report:\\n\", classification_report(y_test, y_pred_dt, digits=4))\n",
        "print(\"Decision Tree Accuracy:\", round(accuracy_score(y_test, y_pred_dt), 4))\n",
        "with open('decision_tree_weak_model.pkl', 'wb') as f:\n",
        "    pickle.dump(dt, f)\n",
        "\n",
        "# Save feature columns again if needed\n",
        "with open('feature_columns.pkl', 'wb') as f:\n",
        "    pickle.dump(list(X.columns), f)\n"
      ]
    },
    {
      "cell_type": "code",
      "execution_count": null,
      "metadata": {
        "colab": {
          "base_uri": "https://localhost:8080/"
        },
        "id": "XecDTJq_F8zM",
        "outputId": "fb23ccd4-8fcc-45d2-c4d6-2bfe942319ae"
      },
      "outputs": [
        {
          "name": "stdout",
          "output_type": "stream",
          "text": [
            "\n",
            "Naive Bayes Report:\n",
            "               precision    recall  f1-score   support\n",
            "\n",
            "           0     0.9031    0.3406    0.4947      1095\n",
            "           1     0.7348    0.9664    0.8348      6483\n",
            "           2     0.8322    0.3646    0.5070      2422\n",
            "\n",
            "    accuracy                         0.7521     10000\n",
            "   macro avg     0.8234    0.5572    0.6122     10000\n",
            "weighted avg     0.7768    0.7521    0.7182     10000\n",
            "\n",
            "Naive Bayes Accuracy: 0.7521\n"
          ]
        },
        {
          "name": "stderr",
          "output_type": "stream",
          "text": [
            "/usr/local/lib/python3.11/dist-packages/sklearn/linear_model/_logistic.py:1247: FutureWarning: 'multi_class' was deprecated in version 1.5 and will be removed in 1.7. From then on, it will always use 'multinomial'. Leave it to its default value to avoid this warning.\n",
            "  warnings.warn(\n",
            "/usr/local/lib/python3.11/dist-packages/sklearn/linear_model/_logistic.py:465: ConvergenceWarning: lbfgs failed to converge (status=1):\n",
            "STOP: TOTAL NO. OF ITERATIONS REACHED LIMIT.\n",
            "\n",
            "Increase the number of iterations (max_iter) or scale the data as shown in:\n",
            "    https://scikit-learn.org/stable/modules/preprocessing.html\n",
            "Please also refer to the documentation for alternative solver options:\n",
            "    https://scikit-learn.org/stable/modules/linear_model.html#logistic-regression\n",
            "  n_iter_i = _check_optimize_result(\n"
          ]
        },
        {
          "name": "stdout",
          "output_type": "stream",
          "text": [
            "\n",
            "Logistic Regression Report:\n",
            "               precision    recall  f1-score   support\n",
            "\n",
            "           0     0.5101    0.1845    0.2710      1095\n",
            "           1     0.7147    0.8882    0.7921      6483\n",
            "           2     0.6537    0.4178    0.5098      2422\n",
            "\n",
            "    accuracy                         0.6972     10000\n",
            "   macro avg     0.6262    0.4968    0.5243     10000\n",
            "weighted avg     0.6776    0.6972    0.6667     10000\n",
            "\n",
            "Logistic Regression Accuracy: 0.6972\n",
            "\n",
            "Gradient Boosting Report:\n",
            "               precision    recall  f1-score   support\n",
            "\n",
            "           0     0.9707    0.9991    0.9847      1095\n",
            "           1     0.9989    0.9951    0.9970      6483\n",
            "           2     1.0000    0.9971    0.9986      2422\n",
            "\n",
            "    accuracy                         0.9960     10000\n",
            "   macro avg     0.9899    0.9971    0.9934     10000\n",
            "weighted avg     0.9961    0.9960    0.9960     10000\n",
            "\n",
            "Gradient Boosting Accuracy: 0.996\n"
          ]
        },
        {
          "name": "stderr",
          "output_type": "stream",
          "text": [
            "/usr/local/lib/python3.11/dist-packages/xgboost/core.py:158: UserWarning: [07:17:50] WARNING: /workspace/src/learner.cc:740: \n",
            "Parameters: { \"use_label_encoder\" } are not used.\n",
            "\n",
            "  warnings.warn(smsg, UserWarning)\n"
          ]
        },
        {
          "name": "stdout",
          "output_type": "stream",
          "text": [
            "\n",
            "XGBoost Report:\n",
            "               precision    recall  f1-score   support\n",
            "\n",
            "           0     0.8555    1.0000    0.9221      1095\n",
            "           1     0.9915    0.9716    0.9815      6483\n",
            "           2     1.0000    0.9773    0.9885      2422\n",
            "\n",
            "    accuracy                         0.9761     10000\n",
            "   macro avg     0.9490    0.9830    0.9640     10000\n",
            "weighted avg     0.9787    0.9761    0.9767     10000\n",
            "\n",
            "XGBoost Accuracy: 0.9761\n"
          ]
        }
      ],
      "source": [
        "import pandas as pd\n",
        "import pickle\n",
        "from sklearn.model_selection import train_test_split\n",
        "from sklearn.metrics import classification_report, accuracy_score\n",
        "\n",
        "# Classifiers\n",
        "from sklearn.naive_bayes import GaussianNB\n",
        "from sklearn.linear_model import LogisticRegression\n",
        "from sklearn.ensemble import GradientBoostingClassifier\n",
        "from xgboost import XGBClassifier\n",
        "\n",
        "# Load dataset\n",
        "df = pd.read_csv('Health_Alert_System.csv')\n",
        "\n",
        "# Feature and label\n",
        "X = df.drop(['Time (s)', 'IR Value', 'Red Value', 'Health_Risk'], axis=1)\n",
        "y = df['Health_Risk']\n",
        "\n",
        "# Split\n",
        "X_train, X_test, y_train, y_test = train_test_split(\n",
        "    X, y, test_size=0.2, stratify=y, random_state=42)\n",
        "\n",
        "# ================= Naive Bayes =================\n",
        "nb = GaussianNB()\n",
        "nb.fit(X_train, y_train)\n",
        "y_pred_nb = nb.predict(X_test)\n",
        "print(\"\\nNaive Bayes Report:\\n\", classification_report(y_test, y_pred_nb, digits=4))\n",
        "print(\"Naive Bayes Accuracy:\", round(accuracy_score(y_test, y_pred_nb), 4))\n",
        "with open('naive_bayes_model.pkl', 'wb') as f:\n",
        "    pickle.dump(nb, f)\n",
        "\n",
        "# ================= Logistic Regression =================\n",
        "lr = LogisticRegression(multi_class='multinomial', solver='lbfgs', max_iter=300)\n",
        "lr.fit(X_train, y_train)\n",
        "y_pred_lr = lr.predict(X_test)\n",
        "print(\"\\nLogistic Regression Report:\\n\", classification_report(y_test, y_pred_lr, digits=4))\n",
        "print(\"Logistic Regression Accuracy:\", round(accuracy_score(y_test, y_pred_lr), 4))\n",
        "with open('logistic_regression_model.pkl', 'wb') as f:\n",
        "    pickle.dump(lr, f)\n",
        "\n",
        "# ================= Gradient Boosting (<97%) =================\n",
        "gb = GradientBoostingClassifier(n_estimators=30, learning_rate=0.3, max_depth=2, random_state=42)\n",
        "gb.fit(X_train, y_train)\n",
        "y_pred_gb = gb.predict(X_test)\n",
        "print(\"\\nGradient Boosting Report:\\n\", classification_report(y_test, y_pred_gb, digits=4))\n",
        "print(\"Gradient Boosting Accuracy:\", round(accuracy_score(y_test, y_pred_gb), 4))\n",
        "with open('gradient_boosting_model.pkl', 'wb') as f:\n",
        "    pickle.dump(gb, f)\n",
        "\n",
        "# ================= XGBoost (<97%) =================\n",
        "xgb = XGBClassifier(n_estimators=30, learning_rate=0.3, max_depth=2, use_label_encoder=False, eval_metric='mlogloss', random_state=42)\n",
        "xgb.fit(X_train, y_train)\n",
        "y_pred_xgb = xgb.predict(X_test)\n",
        "print(\"\\nXGBoost Report:\\n\", classification_report(y_test, y_pred_xgb, digits=4))\n",
        "print(\"XGBoost Accuracy:\", round(accuracy_score(y_test, y_pred_xgb), 4))\n",
        "with open('xgboost_model.pkl', 'wb') as f:\n",
        "    pickle.dump(xgb, f)\n",
        "\n",
        "# Save feature columns\n",
        "with open('feature_columns.pkl', 'wb') as f:\n",
        "    pickle.dump(list(X.columns), f)\n"
      ]
    },
    {
      "cell_type": "code",
      "execution_count": null,
      "metadata": {
        "colab": {
          "base_uri": "https://localhost:8080/",
          "height": 564
        },
        "id": "KZB624ybnT7B",
        "outputId": "195892fe-e688-4bd5-f7f5-949071e5de77"
      },
      "outputs": [
        {
          "data": {
            "image/png": "[encoded data removed]",
            "text/plain": [
              "<Figure size 800x600 with 2 Axes>"
            ]
          },
          "metadata": {},
          "output_type": "display_data"
        }
      ],
      "source": [
        "import matplotlib.pyplot as plt\n",
        "import seaborn as sns\n",
        "from sklearn.metrics import confusion_matrix\n",
        "\n",
        "# === CONFUSION MATRIX ===\n",
        "cm = confusion_matrix(y_test, y_pred)\n",
        "plt.figure(figsize=(8,6))\n",
        "sns.heatmap(cm, annot=True, fmt='d', cmap='Blues', xticklabels=hybrid_model.classes_, yticklabels=hybrid_model.classes_)\n",
        "plt.title('Confusion Matrix')\n",
        "plt.xlabel('Predicted Labels')\n",
        "plt.ylabel('True Labels')\n",
        "plt.show()\n"
      ]
    },
    {
      "cell_type": "code",
      "execution_count": null,
      "metadata": {
        "colab": {
          "base_uri": "https://localhost:8080/",
          "height": 564
        },
        "id": "jrdKmxzdnZkl",
        "outputId": "b5b42522-ee65-4e06-d6e6-cc42c05428b8"
      },
      "outputs": [
        {
          "data": {
            "image/png": "[encoded data removed]",
            "text/plain": [
              "<Figure size 1000x600 with 1 Axes>"
            ]
          },
          "metadata": {},
          "output_type": "display_data"
        }
      ],
      "source": [
        "import numpy as np\n",
        "import matplotlib.pyplot as plt\n",
        "import seaborn as sns\n",
        "from sklearn.metrics import confusion_matrix, accuracy_score\n",
        "\n",
        "\n",
        "# --- Training vs Testing Accuracy Curve ---\n",
        "train_sizes = np.linspace(0.1, 0.9, 9)  # Avoid 1.0 to prevent error\n",
        "train_accuracies = []\n",
        "test_accuracies = []\n",
        "\n",
        "for size in train_sizes:\n",
        "    X_train_part, _, y_train_part, _ = train_test_split(\n",
        "        X_train, y_train, train_size=size, stratify=y_train, random_state=42)\n",
        "\n",
        "    hybrid_model.fit(X_train_part, y_train_part)\n",
        "\n",
        "    train_pred = hybrid_model.predict(X_train_part)\n",
        "    test_pred = hybrid_model.predict(X_test)\n",
        "\n",
        "    train_accuracies.append(accuracy_score(y_train_part, train_pred))\n",
        "    test_accuracies.append(accuracy_score(y_test, test_pred))\n",
        "\n",
        "# Plotting\n",
        "plt.figure(figsize=(10, 6))\n",
        "plt.plot(train_sizes, train_accuracies, label='Training Accuracy', marker='o')\n",
        "plt.plot(train_sizes, test_accuracies, label='Testing Accuracy', marker='s')\n",
        "plt.xlabel('Training Set Size (Proportion)')\n",
        "plt.ylabel('Accuracy')\n",
        "plt.title('Training vs Testing Accuracy Curve')\n",
        "plt.legend()\n",
        "plt.grid(True)\n",
        "plt.show()\n"
      ]
    },
    {
      "cell_type": "code",
      "execution_count": null,
      "metadata": {
        "colab": {
          "base_uri": "https://localhost:8080/"
        },
        "id": "QhhoGvfppQMK",
        "outputId": "1f95c95f-78d1-428f-947e-c5218d725f97"
      },
      "outputs": [
        {
          "name": "stdout",
          "output_type": "stream",
          "text": [
            "   Time (s)  Age   SpO2 (%)  Heart Rate (bpm)  Systolic BP (mmHg)  \\\n",
            "0         0   30  98.198781         75.748334                 141   \n",
            "1         1   87  96.684558         94.780630                 104   \n",
            "2         2   28  99.441363         88.838206                 161   \n",
            "3         3   86  95.389850         63.092013                 150   \n",
            "4         4   68  95.159259         83.896672                 110   \n",
            "\n",
            "   Diastolic BP (mmHg)  IR Value  Red Value  Accel X (m/s^2)  Accel Y (m/s^2)  \\\n",
            "0                  116  53812.52   51748.40        -0.317389         0.745340   \n",
            "1                  101  58730.69   58918.98        -0.512327         0.550623   \n",
            "2                   68  54522.53   50766.90         0.782261         0.675553   \n",
            "3                   72  58543.23   50466.21        -0.870726        -0.155307   \n",
            "4                  102  52571.98   54985.53        -0.438775         0.711295   \n",
            "\n",
            "   Accel Z (m/s^2)    UV Rate  Gyro X (°/s)  Gyro Y (°/s)  Gyro Z (°/s)  \\\n",
            "0         8.742869   5.025164     -0.508005     -4.348929     78.924119   \n",
            "1         9.941633  11.321112     60.418464     75.291782    -37.360917   \n",
            "2        10.056615   8.809588     31.212191    -79.925220    -18.981872   \n",
            "3         9.225347   7.011678    -39.948618      9.355200     68.746907   \n",
            "4         9.934161   2.054155     88.816928    -48.356043     83.643075   \n",
            "\n",
            "   Body Temp (°C)  Health_Risk alert_flag  \n",
            "0       37.615172            1      Alert  \n",
            "1       36.158286            2      Alert  \n",
            "2       37.081527            1      Alert  \n",
            "3       37.692988            2      Alert  \n",
            "4       36.162242            1      Alert  \n"
          ]
        }
      ],
      "source": [
        "# Defining thresholds for each parameter including blood pressure\n",
        "def generate_alert(row):\n",
        "    if row['SpO2 (%)'] < 95:  # SpO2 alert condition\n",
        "        return 'Alert'\n",
        "    elif row['Heart Rate (bpm)'] < 60 or row['Heart Rate (bpm)'] > 100:  # Heart Rate alert condition\n",
        "        return 'Alert'\n",
        "    elif row['Systolic BP (mmHg)'] < 90 or row['Systolic BP (mmHg)'] > 140:  # Systolic BP alert condition\n",
        "        return 'Alert'\n",
        "    elif row['Diastolic BP (mmHg)'] < 60 or row['Diastolic BP (mmHg)'] > 90:  # Diastolic BP alert condition\n",
        "        return 'Alert'\n",
        "    elif row['Body Temp (°C)'] < 36.8 or row['Body Temp (°C)'] > 38:  # Body Temperature alert condition\n",
        "        return 'Alert'\n",
        "    elif abs(row['Accel X (m/s^2)']) > 2 or abs(row['Accel Y (m/s^2)']) > 2 or abs(row['Accel Z (m/s^2)']) > 2:  # Acceleration alert condition\n",
        "        return 'Alert'\n",
        "    elif row['UV Rate'] > 10:  # UV Rate alert condition\n",
        "        return 'Alert'\n",
        "    elif abs(row['Gyro X (°/s)']) > 100 or abs(row['Gyro Y (°/s)']) > 100 or abs(row['Gyro Z (°/s)']) > 100:  # Gyro alert condition\n",
        "        return 'Alert'\n",
        "    else:\n",
        "        return 'Normal'\n",
        "\n",
        "# Apply the updated function\n",
        "df['alert_flag'] = df.apply(generate_alert, axis=1)\n",
        "\n",
        "# Display the updated dataframe\n",
        "print(df.head())\n"
      ]
    },
    {
      "cell_type": "code",
      "execution_count": null,
      "metadata": {
        "colab": {
          "base_uri": "https://localhost:8080/"
        },
        "id": "DTNsClktpYF0",
        "outputId": "b5610bfd-234c-43a8-ca22-913c7d0aef8d"
      },
      "outputs": [
        {
          "name": "stdout",
          "output_type": "stream",
          "text": [
            "       Time (s)   SpO2 (%)  Heart Rate (bpm)  Systolic BP (mmHg)  \\\n",
            "0             0  98.198781         75.748334                 141   \n",
            "1             1  96.684558         94.780630                 104   \n",
            "2             2  99.441363         88.838206                 161   \n",
            "3             3  95.389850         63.092013                 150   \n",
            "4             4  95.159259         83.896672                 110   \n",
            "...         ...        ...               ...                 ...   \n",
            "49995     49995  95.142455         62.573955                 176   \n",
            "49996     49996  99.416769         68.307170                 124   \n",
            "49997     49997  94.518560         79.089122                 141   \n",
            "49998     49998  97.124866         92.055218                 135   \n",
            "49999     49999  99.007343         83.418844                 155   \n",
            "\n",
            "       Diastolic BP (mmHg)  Body Temp (°C)  Accel X (m/s^2)  Accel Y (m/s^2)  \\\n",
            "0                      116       37.615172        -0.317389         0.745340   \n",
            "1                      101       36.158286        -0.512327         0.550623   \n",
            "2                       68       37.081527         0.782261         0.675553   \n",
            "3                       72       37.692988        -0.870726        -0.155307   \n",
            "4                      102       36.162242        -0.438775         0.711295   \n",
            "...                    ...             ...              ...              ...   \n",
            "49995                   95       36.327625         0.395900         0.336972   \n",
            "49996                   92       36.569975         0.525248         0.039730   \n",
            "49997                   69       36.333204         0.926318         0.126708   \n",
            "49998                   72       36.605728        -0.344004         0.109084   \n",
            "49999                   93       36.799964        -0.208722         0.048734   \n",
            "\n",
            "       Accel Z (m/s^2)  Gyro X (°/s)  Gyro Y (°/s)  Gyro Z (°/s)    UV Rate  \\\n",
            "0             8.742869     -0.508005     -4.348929     78.924119   5.025164   \n",
            "1             9.941633     60.418464     75.291782    -37.360917  11.321112   \n",
            "2            10.056615     31.212191    -79.925220    -18.981872   8.809588   \n",
            "3             9.225347    -39.948618      9.355200     68.746907   7.011678   \n",
            "4             9.934161     88.816928    -48.356043     83.643075   2.054155   \n",
            "...                ...           ...           ...           ...        ...   \n",
            "49995        10.207330    -45.280670    -31.581615     67.889019   7.923119   \n",
            "49996         9.115694     75.409593     36.156316     35.401567   2.356062   \n",
            "49997         9.486347     56.951054    -16.808468     49.676530   9.655311   \n",
            "49998        10.021722    -11.662629    -17.275735     29.121823   6.385566   \n",
            "49999         9.657870     22.409992     83.620989     68.653764  10.695949   \n",
            "\n",
            "       alert_flag  \n",
            "0               1  \n",
            "1               1  \n",
            "2               1  \n",
            "3               1  \n",
            "4               1  \n",
            "...           ...  \n",
            "49995           1  \n",
            "49996           1  \n",
            "49997           1  \n",
            "49998           1  \n",
            "49999           1  \n",
            "\n",
            "[50000 rows x 14 columns]\n"
          ]
        }
      ],
      "source": [
        "import pandas as pd\n",
        "\n",
        "# Define thresholds for alerting including BP\n",
        "def alert_flag(row):\n",
        "    # Define the alerting conditions for each parameter\n",
        "    if (row['SpO2 (%)'] < 95 or row['SpO2 (%)'] > 100 or\n",
        "        row['Heart Rate (bpm)'] < 60 or row['Heart Rate (bpm)'] > 100 or\n",
        "        row['Systolic BP (mmHg)'] < 90 or row['Systolic BP (mmHg)'] > 140 or\n",
        "        row['Diastolic BP (mmHg)'] < 60 or row['Diastolic BP (mmHg)'] > 90 or\n",
        "        row['Body Temp (°C)'] < 36.8 or row['Body Temp (°C)'] > 38 or\n",
        "        abs(row['Accel X (m/s^2)']) > 15 or abs(row['Accel Y (m/s^2)']) > 15 or abs(row['Accel Z (m/s^2)']) > 15 or\n",
        "        abs(row['Gyro X (°/s)']) > 200 or abs(row['Gyro Y (°/s)']) > 200 or abs(row['Gyro Z (°/s)']) > 200 or\n",
        "        row['UV Rate'] > 10):\n",
        "        return 1  # Flag as alert\n",
        "    else:\n",
        "        return 0  # No alert\n",
        "\n",
        "# Apply the alert function to each row in the dataframe\n",
        "df['alert_flag'] = df.apply(alert_flag, axis=1)\n",
        "\n",
        "# Print the dataframe with selected columns including BP and alert flag\n",
        "print(df[['Time (s)', 'SpO2 (%)', 'Heart Rate (bpm)', 'Systolic BP (mmHg)', 'Diastolic BP (mmHg)',\n",
        "          'Body Temp (°C)', 'Accel X (m/s^2)', 'Accel Y (m/s^2)', 'Accel Z (m/s^2)',\n",
        "          'Gyro X (°/s)', 'Gyro Y (°/s)', 'Gyro Z (°/s)', 'UV Rate', 'alert_flag']])\n"
      ]
    },
    {
      "cell_type": "code",
      "execution_count": null,
      "metadata": {
        "colab": {
          "base_uri": "https://localhost:8080/"
        },
        "id": "f41HUMqNpbkT",
        "outputId": "165f4594-87c6-44fb-b15a-f40430f04412"
      },
      "outputs": [
        {
          "name": "stdout",
          "output_type": "stream",
          "text": [
            "Number of alerts for SpO2 (%): 4052\n",
            "Number of alerts for Heart Rate (bpm): 518\n",
            "Number of alerts for Systolic BP (mmHg): 21695\n",
            "Number of alerts for Diastolic BP (mmHg): 24156\n",
            "Number of alerts for Body Temp (°C): 27174\n",
            "Number of alerts for Accel X (m/s^2): 0\n",
            "Number of alerts for Accel Y (m/s^2): 0\n",
            "Number of alerts for Accel Z (m/s^2): 0\n",
            "Number of alerts for Gyro X (°/s): 3\n",
            "Number of alerts for Gyro Y (°/s): 2\n",
            "Number of alerts for Gyro Z (°/s): 3\n",
            "Number of alerts for UV Rate: 8266\n"
          ]
        }
      ],
      "source": [
        "# Count the number of alerts for each parameter, including BP\n",
        "alert_summary = {\n",
        "    'SpO2 (%)': (df['SpO2 (%)'] < 95) | (df['SpO2 (%)'] > 100),\n",
        "    'Heart Rate (bpm)': (df['Heart Rate (bpm)'] < 60) | (df['Heart Rate (bpm)'] > 100),\n",
        "    'Systolic BP (mmHg)': (df['Systolic BP (mmHg)'] < 90) | (df['Systolic BP (mmHg)'] > 140),\n",
        "    'Diastolic BP (mmHg)': (df['Diastolic BP (mmHg)'] < 60) | (df['Diastolic BP (mmHg)'] > 90),\n",
        "    'Body Temp (°C)': (df['Body Temp (°C)'] < 36.8) | (df['Body Temp (°C)'] > 38),\n",
        "    'Accel X (m/s^2)': abs(df['Accel X (m/s^2)']) > 15,\n",
        "    'Accel Y (m/s^2)': abs(df['Accel Y (m/s^2)']) > 15,\n",
        "    'Accel Z (m/s^2)': abs(df['Accel Z (m/s^2)']) > 15,\n",
        "    'Gyro X (°/s)': abs(df['Gyro X (°/s)']) > 200,\n",
        "    'Gyro Y (°/s)': abs(df['Gyro Y (°/s)']) > 200,\n",
        "    'Gyro Z (°/s)': abs(df['Gyro Z (°/s)']) > 200,\n",
        "    'UV Rate': df['UV Rate'] > 10\n",
        "}\n",
        "\n",
        "# Print out the alert counts for each parameter\n",
        "for param, alert_condition in alert_summary.items():\n",
        "    print(f\"Number of alerts for {param}: {alert_condition.sum()}\")\n"
      ]
    },
    {
      "cell_type": "code",
      "execution_count": null,
      "metadata": {
        "colab": {
          "base_uri": "https://localhost:8080/"
        },
        "id": "85mKRL0BpirO",
        "outputId": "66b68d3a-ea8b-4424-9429-09980afe81a6"
      },
      "outputs": [
        {
          "name": "stdout",
          "output_type": "stream",
          "text": [
            "   Time (s)  alert_flag  critical_alert\n",
            "0         0           1               0\n",
            "1         1           1               0\n",
            "2         2           1               0\n",
            "3         3           1               0\n",
            "4         4           1               0\n"
          ]
        }
      ],
      "source": [
        "# Adding a critical alert flag if more than 2 parameters exceed safe thresholds including BP\n",
        "df['critical_alert'] = df.apply(\n",
        "    lambda row: 1 if (\n",
        "        ((row['SpO2 (%)'] < 95) | (row['SpO2 (%)'] > 100)) +\n",
        "        ((row['Heart Rate (bpm)'] < 60) | (row['Heart Rate (bpm)'] > 100)) +\n",
        "        ((row['Systolic BP (mmHg)'] < 90) | (row['Systolic BP (mmHg)'] > 140)) +\n",
        "        ((row['Diastolic BP (mmHg)'] < 60) | (row['Diastolic BP (mmHg)'] > 90)) +\n",
        "        ((row['Body Temp (°C)'] < 36.8) | (row['Body Temp (°C)'] > 38)) +\n",
        "        (abs(row['Accel X (m/s^2)']) > 15) +\n",
        "        (abs(row['Accel Y (m/s^2)']) > 15) +\n",
        "        (abs(row['Accel Z (m/s^2)']) > 15) +\n",
        "        (abs(row['Gyro X (°/s)']) > 200) +\n",
        "        (abs(row['Gyro Y (°/s)']) > 200) +\n",
        "        (abs(row['Gyro Z (°/s)']) > 200) +\n",
        "        (row['UV Rate'] > 10)\n",
        "    ) > 2 else 0, axis=1\n",
        ")\n",
        "\n",
        "# Display the updated DataFrame with critical alerts\n",
        "print(df[['Time (s)', 'alert_flag', 'critical_alert']].head())\n"
      ]
    },
    {
      "cell_type": "code",
      "execution_count": null,
      "metadata": {
        "id": "__WWl-7wpj7H"
      },
      "outputs": [],
      "source": [
        "\n",
        "\n",
        "# Step 1: Define alert logic using Fahrenheit and BP thresholds\n",
        "def flag_alert(row):\n",
        "    if (\n",
        "        row['SpO2 (%)'] < 92 or\n",
        "        row['Heart Rate (bpm)'] < 60 or row['Heart Rate (bpm)'] > 100 or\n",
        "        row['Systolic BP (mmHg)'] < 90 or row['Systolic BP (mmHg)'] > 140 or\n",
        "        row['Diastolic BP (mmHg)'] < 60 or row['Diastolic BP (mmHg)'] > 90 or\n",
        "        row['Body Temp (°C)'] < 36.8 or row['Body Temp (°C)'] > 38\n",
        "    ):\n",
        "        return 1  # Alert\n",
        "    return 0  # Normal\n",
        "\n",
        "# Apply the function to generate alert flags\n",
        "df['alert_flag'] = df.apply(flag_alert, axis=1)\n"
      ]
    },
    {
      "cell_type": "code",
      "execution_count": null,
      "metadata": {
        "colab": {
          "base_uri": "https://localhost:8080/"
        },
        "id": "HhbqEcMIpncE",
        "outputId": "d669c74f-4acb-46c7-88a2-da6ade52e64e"
      },
      "outputs": [
        {
          "name": "stdout",
          "output_type": "stream",
          "text": [
            "Collecting streamlit\n",
            "  Downloading streamlit-1.46.0-py3-none-any.whl.metadata (9.0 kB)\n",
            "Requirement already satisfied: altair<6,>=4.0 in /usr/local/lib/python3.11/dist-packages (from streamlit) (5.5.0)\n",
            "Requirement already satisfied: blinker<2,>=1.5.0 in /usr/local/lib/python3.11/dist-packages (from streamlit) (1.9.0)\n",
            "Requirement already satisfied: cachetools<7,>=4.0 in /usr/local/lib/python3.11/dist-packages (from streamlit) (5.5.2)\n",
            "Requirement already satisfied: click<9,>=7.0 in /usr/local/lib/python3.11/dist-packages (from streamlit) (8.2.1)\n",
            "Requirement already satisfied: numpy<3,>=1.23 in /usr/local/lib/python3.11/dist-packages (from streamlit) (2.0.2)\n",
            "Requirement already satisfied: packaging<26,>=20 in /usr/local/lib/python3.11/dist-packages (from streamlit) (24.2)\n",
            "Requirement already satisfied: pandas<3,>=1.4.0 in /usr/local/lib/python3.11/dist-packages (from streamlit) (2.2.2)\n",
            "Requirement already satisfied: pillow<12,>=7.1.0 in /usr/local/lib/python3.11/dist-packages (from streamlit) (11.2.1)\n",
            "Requirement already satisfied: protobuf<7,>=3.20 in /usr/local/lib/python3.11/dist-packages (from streamlit) (5.29.5)\n",
            "Requirement already satisfied: pyarrow>=7.0 in /usr/local/lib/python3.11/dist-packages (from streamlit) (18.1.0)\n",
            "Requirement already satisfied: requests<3,>=2.27 in /usr/local/lib/python3.11/dist-packages (from streamlit) (2.32.3)\n",
            "Requirement already satisfied: tenacity<10,>=8.1.0 in /usr/local/lib/python3.11/dist-packages (from streamlit) (9.1.2)\n",
            "Requirement already satisfied: toml<2,>=0.10.1 in /usr/local/lib/python3.11/dist-packages (from streamlit) (0.10.2)\n",
            "Requirement already satisfied: typing-extensions<5,>=4.4.0 in /usr/local/lib/python3.11/dist-packages (from streamlit) (4.14.0)\n",
            "Collecting watchdog<7,>=2.1.5 (from streamlit)\n",
            "  Downloading watchdog-6.0.0-py3-none-manylinux2014_x86_64.whl.metadata (44 kB)\n",
            "\u001b[2K     \u001b[90m━━━━━━━━━━━━━━━━━━━━━━━━━━━━━━━━━━━━━━━━\u001b[0m \u001b[32m44.3/44.3 kB\u001b[0m \u001b[31m2.9 MB/s\u001b[0m eta \u001b[36m0:00:00\u001b[0m\n",
            "\u001b[?25hRequirement already satisfied: gitpython!=3.1.19,<4,>=3.0.7 in /usr/local/lib/python3.11/dist-packages (from streamlit) (3.1.44)\n",
            "Collecting pydeck<1,>=0.8.0b4 (from streamlit)\n",
            "  Downloading pydeck-0.9.1-py2.py3-none-any.whl.metadata (4.1 kB)\n",
            "Requirement already satisfied: tornado!=6.5.0,<7,>=6.0.3 in /usr/local/lib/python3.11/dist-packages (from streamlit) (6.4.2)\n",
            "Requirement already satisfied: jinja2 in /usr/local/lib/python3.11/dist-packages (from altair<6,>=4.0->streamlit) (3.1.6)\n",
            "Requirement already satisfied: jsonschema>=3.0 in /usr/local/lib/python3.11/dist-packages (from altair<6,>=4.0->streamlit) (4.24.0)\n",
            "Requirement already satisfied: narwhals>=1.14.2 in /usr/local/lib/python3.11/dist-packages (from altair<6,>=4.0->streamlit) (1.43.0)\n",
            "Requirement already satisfied: gitdb<5,>=4.0.1 in /usr/local/lib/python3.11/dist-packages (from gitpython!=3.1.19,<4,>=3.0.7->streamlit) (4.0.12)\n",
            "Requirement already satisfied: python-dateutil>=2.8.2 in /usr/local/lib/python3.11/dist-packages (from pandas<3,>=1.4.0->streamlit) (2.9.0.post0)\n",
            "Requirement already satisfied: pytz>=2020.1 in /usr/local/lib/python3.11/dist-packages (from pandas<3,>=1.4.0->streamlit) (2025.2)\n",
            "Requirement already satisfied: tzdata>=2022.7 in /usr/local/lib/python3.11/dist-packages (from pandas<3,>=1.4.0->streamlit) (2025.2)\n",
            "Requirement already satisfied: charset-normalizer<4,>=2 in /usr/local/lib/python3.11/dist-packages (from requests<3,>=2.27->streamlit) (3.4.2)\n",
            "Requirement already satisfied: idna<4,>=2.5 in /usr/local/lib/python3.11/dist-packages (from requests<3,>=2.27->streamlit) (3.10)\n",
            "Requirement already satisfied: urllib3<3,>=1.21.1 in /usr/local/lib/python3.11/dist-packages (from requests<3,>=2.27->streamlit) (2.4.0)\n",
            "Requirement already satisfied: certifi>=2017.4.17 in /usr/local/lib/python3.11/dist-packages (from requests<3,>=2.27->streamlit) (2025.6.15)\n",
            "Requirement already satisfied: smmap<6,>=3.0.1 in /usr/local/lib/python3.11/dist-packages (from gitdb<5,>=4.0.1->gitpython!=3.1.19,<4,>=3.0.7->streamlit) (5.0.2)\n",
            "Requirement already satisfied: MarkupSafe>=2.0 in /usr/local/lib/python3.11/dist-packages (from jinja2->altair<6,>=4.0->streamlit) (3.0.2)\n",
            "Requirement already satisfied: attrs>=22.2.0 in /usr/local/lib/python3.11/dist-packages (from jsonschema>=3.0->altair<6,>=4.0->streamlit) (25.3.0)\n",
            "Requirement already satisfied: jsonschema-specifications>=2023.03.6 in /usr/local/lib/python3.11/dist-packages (from jsonschema>=3.0->altair<6,>=4.0->streamlit) (2025.4.1)\n",
            "Requirement already satisfied: referencing>=0.28.4 in /usr/local/lib/python3.11/dist-packages (from jsonschema>=3.0->altair<6,>=4.0->streamlit) (0.36.2)\n",
            "Requirement already satisfied: rpds-py>=0.7.1 in /usr/local/lib/python3.11/dist-packages (from jsonschema>=3.0->altair<6,>=4.0->streamlit) (0.25.1)\n",
            "Requirement already satisfied: six>=1.5 in /usr/local/lib/python3.11/dist-packages (from python-dateutil>=2.8.2->pandas<3,>=1.4.0->streamlit) (1.17.0)\n",
            "Downloading streamlit-1.46.0-py3-none-any.whl (10.1 MB)\n",
            "\u001b[2K   \u001b[90m━━━━━━━━━━━━━━━━━━━━━━━━━━━━━━━━━━━━━━━━\u001b[0m \u001b[32m10.1/10.1 MB\u001b[0m \u001b[31m82.3 MB/s\u001b[0m eta \u001b[36m0:00:00\u001b[0m\n",
            "\u001b[?25hDownloading pydeck-0.9.1-py2.py3-none-any.whl (6.9 MB)\n",
            "\u001b[2K   \u001b[90m━━━━━━━━━━━━━━━━━━━━━━━━━━━━━━━━━━━━━━━━\u001b[0m \u001b[32m6.9/6.9 MB\u001b[0m \u001b[31m104.9 MB/s\u001b[0m eta \u001b[36m0:00:00\u001b[0m\n",
            "\u001b[?25hDownloading watchdog-6.0.0-py3-none-manylinux2014_x86_64.whl (79 kB)\n",
            "\u001b[2K   \u001b[90m━━━━━━━━━━━━━━━━━━━━━━━━━━━━━━━━━━━━━━━━\u001b[0m \u001b[32m79.1/79.1 kB\u001b[0m \u001b[31m6.4 MB/s\u001b[0m eta \u001b[36m0:00:00\u001b[0m\n",
            "\u001b[?25hInstalling collected packages: watchdog, pydeck, streamlit\n",
            "Successfully installed pydeck-0.9.1 streamlit-1.46.0 watchdog-6.0.0\n",
            "Requirement already satisfied: streamlit in /usr/local/lib/python3.11/dist-packages (1.46.0)\n",
            "Collecting pyngrok\n",
            "  Downloading pyngrok-7.2.11-py3-none-any.whl.metadata (9.4 kB)\n",
            "Requirement already satisfied: altair<6,>=4.0 in /usr/local/lib/python3.11/dist-packages (from streamlit) (5.5.0)\n",
            "Requirement already satisfied: blinker<2,>=1.5.0 in /usr/local/lib/python3.11/dist-packages (from streamlit) (1.9.0)\n",
            "Requirement already satisfied: cachetools<7,>=4.0 in /usr/local/lib/python3.11/dist-packages (from streamlit) (5.5.2)\n",
            "Requirement already satisfied: click<9,>=7.0 in /usr/local/lib/python3.11/dist-packages (from streamlit) (8.2.1)\n",
            "Requirement already satisfied: numpy<3,>=1.23 in /usr/local/lib/python3.11/dist-packages (from streamlit) (2.0.2)\n",
            "Requirement already satisfied: packaging<26,>=20 in /usr/local/lib/python3.11/dist-packages (from streamlit) (24.2)\n",
            "Requirement already satisfied: pandas<3,>=1.4.0 in /usr/local/lib/python3.11/dist-packages (from streamlit) (2.2.2)\n",
            "Requirement already satisfied: pillow<12,>=7.1.0 in /usr/local/lib/python3.11/dist-packages (from streamlit) (11.2.1)\n",
            "Requirement already satisfied: protobuf<7,>=3.20 in /usr/local/lib/python3.11/dist-packages (from streamlit) (5.29.5)\n",
            "Requirement already satisfied: pyarrow>=7.0 in /usr/local/lib/python3.11/dist-packages (from streamlit) (18.1.0)\n",
            "Requirement already satisfied: requests<3,>=2.27 in /usr/local/lib/python3.11/dist-packages (from streamlit) (2.32.3)\n",
            "Requirement already satisfied: tenacity<10,>=8.1.0 in /usr/local/lib/python3.11/dist-packages (from streamlit) (9.1.2)\n",
            "Requirement already satisfied: toml<2,>=0.10.1 in /usr/local/lib/python3.11/dist-packages (from streamlit) (0.10.2)\n",
            "Requirement already satisfied: typing-extensions<5,>=4.4.0 in /usr/local/lib/python3.11/dist-packages (from streamlit) (4.14.0)\n",
            "Requirement already satisfied: watchdog<7,>=2.1.5 in /usr/local/lib/python3.11/dist-packages (from streamlit) (6.0.0)\n",
            "Requirement already satisfied: gitpython!=3.1.19,<4,>=3.0.7 in /usr/local/lib/python3.11/dist-packages (from streamlit) (3.1.44)\n",
            "Requirement already satisfied: pydeck<1,>=0.8.0b4 in /usr/local/lib/python3.11/dist-packages (from streamlit) (0.9.1)\n",
            "Requirement already satisfied: tornado!=6.5.0,<7,>=6.0.3 in /usr/local/lib/python3.11/dist-packages (from streamlit) (6.4.2)\n",
            "Requirement already satisfied: PyYAML>=5.1 in /usr/local/lib/python3.11/dist-packages (from pyngrok) (6.0.2)\n",
            "Requirement already satisfied: jinja2 in /usr/local/lib/python3.11/dist-packages (from altair<6,>=4.0->streamlit) (3.1.6)\n",
            "Requirement already satisfied: jsonschema>=3.0 in /usr/local/lib/python3.11/dist-packages (from altair<6,>=4.0->streamlit) (4.24.0)\n",
            "Requirement already satisfied: narwhals>=1.14.2 in /usr/local/lib/python3.11/dist-packages (from altair<6,>=4.0->streamlit) (1.43.0)\n",
            "Requirement already satisfied: gitdb<5,>=4.0.1 in /usr/local/lib/python3.11/dist-packages (from gitpython!=3.1.19,<4,>=3.0.7->streamlit) (4.0.12)\n",
            "Requirement already satisfied: python-dateutil>=2.8.2 in /usr/local/lib/python3.11/dist-packages (from pandas<3,>=1.4.0->streamlit) (2.9.0.post0)\n",
            "Requirement already satisfied: pytz>=2020.1 in /usr/local/lib/python3.11/dist-packages (from pandas<3,>=1.4.0->streamlit) (2025.2)\n",
            "Requirement already satisfied: tzdata>=2022.7 in /usr/local/lib/python3.11/dist-packages (from pandas<3,>=1.4.0->streamlit) (2025.2)\n",
            "Requirement already satisfied: charset-normalizer<4,>=2 in /usr/local/lib/python3.11/dist-packages (from requests<3,>=2.27->streamlit) (3.4.2)\n",
            "Requirement already satisfied: idna<4,>=2.5 in /usr/local/lib/python3.11/dist-packages (from requests<3,>=2.27->streamlit) (3.10)\n",
            "Requirement already satisfied: urllib3<3,>=1.21.1 in /usr/local/lib/python3.11/dist-packages (from requests<3,>=2.27->streamlit) (2.4.0)\n",
            "Requirement already satisfied: certifi>=2017.4.17 in /usr/local/lib/python3.11/dist-packages (from requests<3,>=2.27->streamlit) (2025.6.15)\n",
            "Requirement already satisfied: smmap<6,>=3.0.1 in /usr/local/lib/python3.11/dist-packages (from gitdb<5,>=4.0.1->gitpython!=3.1.19,<4,>=3.0.7->streamlit) (5.0.2)\n",
            "Requirement already satisfied: MarkupSafe>=2.0 in /usr/local/lib/python3.11/dist-packages (from jinja2->altair<6,>=4.0->streamlit) (3.0.2)\n",
            "Requirement already satisfied: attrs>=22.2.0 in /usr/local/lib/python3.11/dist-packages (from jsonschema>=3.0->altair<6,>=4.0->streamlit) (25.3.0)\n",
            "Requirement already satisfied: jsonschema-specifications>=2023.03.6 in /usr/local/lib/python3.11/dist-packages (from jsonschema>=3.0->altair<6,>=4.0->streamlit) (2025.4.1)\n",
            "Requirement already satisfied: referencing>=0.28.4 in /usr/local/lib/python3.11/dist-packages (from jsonschema>=3.0->altair<6,>=4.0->streamlit) (0.36.2)\n",
            "Requirement already satisfied: rpds-py>=0.7.1 in /usr/local/lib/python3.11/dist-packages (from jsonschema>=3.0->altair<6,>=4.0->streamlit) (0.25.1)\n",
            "Requirement already satisfied: six>=1.5 in /usr/local/lib/python3.11/dist-packages (from python-dateutil>=2.8.2->pandas<3,>=1.4.0->streamlit) (1.17.0)\n",
            "Downloading pyngrok-7.2.11-py3-none-any.whl (25 kB)\n",
            "Installing collected packages: pyngrok\n",
            "Successfully installed pyngrok-7.2.11\n"
          ]
        }
      ],
      "source": [
        "!pip install streamlit\n",
        "!pip install streamlit pyngrok\n",
        "\n"
      ]
    },
    {
      "cell_type": "code",
      "execution_count": null,
      "metadata": {
        "colab": {
          "base_uri": "https://localhost:8080/"
        },
        "id": "fY64ZWqApp6r",
        "outputId": "d62cdeac-883f-4178-ba5b-8dbe6d8ab893"
      },
      "outputs": [
        {
          "name": "stdout",
          "output_type": "stream",
          "text": [
            "Writing app.py\n"
          ]
        }
      ],
      "source": [
        "%%writefile app.py\n",
        "import streamlit as st\n",
        "import pandas as pd\n",
        "import numpy as np\n",
        "import joblib\n",
        "\n",
        "# Load trained health model\n",
        "model = joblib.load(\"hybrid_health_alert_model.pkl\")\n",
        "\n",
        "st.set_page_config(page_title=\"Health Alert Chatbot\", layout=\"centered\")\n",
        "st.title(\"🩺 Health Monitoring Chatbot with Fall Detection\")\n",
        "\n",
        "st.sidebar.header(\"Enter Health Parameters\")\n",
        "\n",
        "# Get user input\n",
        "age = st.sidebar.number_input(\"Age\", min_value=1, max_value=120, value=30)\n",
        "spo2 = st.sidebar.slider(\"SpO2 (%)\", 70, 100, 98)\n",
        "heart_rate = st.sidebar.slider(\"Heart Rate (bpm)\", 40, 180, 75)\n",
        "systolic_bp = st.sidebar.slider(\"Systolic BP (mmHg)\", 70, 200, 120)\n",
        "diastolic_bp = st.sidebar.slider(\"Diastolic BP (mmHg)\", 40, 120, 80)\n",
        "accel_x = st.sidebar.number_input(\"Accel X (m/s^2)\", value=0.0)\n",
        "accel_y = st.sidebar.number_input(\"Accel Y (m/s^2)\", value=0.0)\n",
        "accel_z = st.sidebar.number_input(\"Accel Z (m/s^2)\", value=9.8)\n",
        "uv_rate = st.sidebar.number_input(\"UV Rate\", value=1.0)\n",
        "gyro_x = st.sidebar.number_input(\"Gyro X (°/s)\", value=0.0)\n",
        "gyro_y = st.sidebar.number_input(\"Gyro Y (°/s)\", value=0.0)\n",
        "gyro_z = st.sidebar.number_input(\"Gyro Z (°/s)\", value=0.0)\n",
        "body_temp_c = st.sidebar.number_input(\"Body Temp (°C)\", value=36.8)\n",
        "\n",
        "if st.sidebar.button(\"Check Health Status\"):\n",
        "\n",
        "    # Create input dataframe for the model\n",
        "    input_data = pd.DataFrame([[\n",
        "        age, spo2, heart_rate, systolic_bp, diastolic_bp,\n",
        "        accel_x, accel_y, accel_z, uv_rate,\n",
        "        gyro_x, gyro_y, gyro_z, body_temp_c\n",
        "    ]], columns=[\n",
        "        \"Age\", \"SpO2 (%)\", \"Heart Rate (bpm)\", \"Systolic BP (mmHg)\", \"Diastolic BP (mmHg)\",\n",
        "        \"Accel X (m/s^2)\", \"Accel Y (m/s^2)\", \"Accel Z (m/s^2)\",\n",
        "        \"UV Rate\", \"Gyro X (°/s)\", \"Gyro Y (°/s)\", \"Gyro Z (°/s)\",\n",
        "        \"Body Temp (°C)\"\n",
        "    ])\n",
        "\n",
        "    # Model Prediction (0 = healthy, 1 = mild, 2 = critical)\n",
        "    prediction = model.predict(input_data)[0]\n",
        "\n",
        "    # Alert thresholds\n",
        "    alerts = []\n",
        "\n",
        "    # Check for abnormal conditions\n",
        "    if spo2 < 92:\n",
        "        alerts.append(\"Low SpO2 (Possible hypoxia)\")\n",
        "\n",
        "    if heart_rate < 60 or heart_rate > 100:\n",
        "        alerts.append(\"Abnormal Heart Rate\")\n",
        "\n",
        "    if systolic_bp < 90 or systolic_bp > 140:\n",
        "        alerts.append(\"Abnormal Systolic Blood Pressure\")\n",
        "\n",
        "    if diastolic_bp < 60 or diastolic_bp > 90:\n",
        "        alerts.append(\"Abnormal Diastolic Blood Pressure\")\n",
        "\n",
        "    if body_temp_c < 36.8 or body_temp_c > 38:\n",
        "        alerts.append(\"Abnormal Body Temperature\")\n",
        "        if body_temp_c < 36.8:\n",
        "            prediction = 1  # Mild Risk\n",
        "        elif body_temp_c > 38:\n",
        "            prediction = 2  # Critical\n",
        "\n",
        "    if abs(accel_x) > 15 or abs(accel_y) > 15 or abs(accel_z) > 15:\n",
        "        alerts.append(\"High Acceleration Detected (Possible Fall)\")\n",
        "\n",
        "    if abs(gyro_x) > 200 or abs(gyro_y) > 200 or abs(gyro_z) > 200:\n",
        "        alerts.append(\"High Gyroscope Movement (Possible Fall)\")\n",
        "\n",
        "    if uv_rate > 2:\n",
        "        alerts.append(\"High UV Exposure\")\n",
        "\n",
        "    # Fall detection logic\n",
        "    fall_detected = (\n",
        "        (abs(accel_x) > 20 or abs(accel_y) > 20 or abs(accel_z - 9.8) > 10) and\n",
        "        (abs(gyro_x) > 300 or abs(gyro_y) > 300 or abs(gyro_z) > 300)\n",
        "    )\n",
        "\n",
        "    # Update prediction based on fall detection\n",
        "    if fall_detected:\n",
        "        prediction = 2  # Critical\n",
        "\n",
        "    # Display prediction\n",
        "    if prediction == 0:\n",
        "        st.success(\"✅ You're Healthy! Keep monitoring regularly.\")\n",
        "    elif prediction == 1:\n",
        "        st.warning(\"⚠️ Mild Risk Detected. Monitor your health closely.\")\n",
        "    elif prediction == 2:\n",
        "        st.error(\"🚨 Critical Condition Detected! Seek immediate medical attention.\")\n",
        "\n",
        "    # Display alerts\n",
        "    if alerts:\n",
        "        st.warning(\"⚠️ Alert Triggers:\")\n",
        "        for item in alerts:\n",
        "            st.markdown(f\"- {item}\")\n",
        "\n",
        "    if fall_detected:\n",
        "        st.error(\"🛑 Fall Detected! Immediate attention may be required.\")\n",
        "\n",
        "    # Overall Alert Flag\n",
        "    if prediction == 2 or fall_detected or len(alerts) >= 2:\n",
        "        st.markdown(\"### 🚨 **Critical Alert Raised**\")\n",
        "\n",
        "    st.markdown(\"---\")\n",
        "    st.write(\"System continuously monitors for abnormal vitals and potential fall events.\")"
      ]
    },
    {
      "cell_type": "code",
      "execution_count": null,
      "metadata": {
        "colab": {
          "base_uri": "https://localhost:8080/"
        },
        "id": "oSWAr6xgpy7m",
        "outputId": "734471ec-7ceb-463d-9529-621e0a099041"
      },
      "outputs": [
        {
          "name": "stdout",
          "output_type": "stream",
          "text": [
            "\n",
            "Collecting usage statistics. To deactivate, set browser.gatherUsageStats to false.\n",
            "\u001b[0m\n",
            "\u001b[0m\n",
            "\u001b[34m\u001b[1m  You can now view your Streamlit app in your browser.\u001b[0m\n",
            "\u001b[0m\n",
            "\u001b[34m  Local URL: \u001b[0m\u001b[1mhttp://localhost:8501\u001b[0m\n",
            "\u001b[34m  Network URL: \u001b[0m\u001b[1mhttp://172.28.0.12:8501\u001b[0m\n",
            "\u001b[34m  External URL: \u001b[0m\u001b[1mhttp://34.83.254.179:8501\u001b[0m\n",
            "\u001b[0m\n",
            "\u001b[34m  Stopping...\u001b[0m\n",
            "^C\n",
            "Authtoken saved to configuration file: /root/.config/ngrok/ngrok.yml\n"
          ]
        }
      ],
      "source": [
        "!streamlit run /usr/local/lib/python3.11/dist-packages/colab_kernel_launcher.py\n",
        "!ngrok config add-authtoken 2vnWhsksXX9iTvvquZPSkB7GCQN_4o5pv3Y97U1G3zbH5fVtZ"
      ]
    },
    {
      "cell_type": "code",
      "execution_count": null,
      "metadata": {
        "colab": {
          "base_uri": "https://localhost:8080/"
        },
        "id": "xK6ONxmWp3_P",
        "outputId": "d8d0b228-7622-4563-a6fd-34e1b38ceabf"
      },
      "outputs": [
        {
          "name": "stdout",
          "output_type": "stream",
          "text": [
            "Your Streamlit app is live at: NgrokTunnel: \"https://362f-34-83-254-179.ngrok-free.app\" -> \"http://localhost:8501\"\n"
          ]
        }
      ],
      "source": [
        "\n",
        "# Kill any existing tunnels\n",
        "from pyngrok import ngrok\n",
        "ngrok.kill()\n",
        "\n",
        "# Start Streamlit app in the background\n",
        "import os\n",
        "import subprocess\n",
        "import time\n",
        "\n",
        "# Make sure your Streamlit script is saved as app.py\n",
        "# If it's somewhere else, change the path accordingly\n",
        "streamlit_process = subprocess.Popen([\"streamlit\", \"run\", \"app.py\"])\n",
        "\n",
        "# Wait for Streamlit to start\n",
        "time.sleep(5)\n",
        "\n",
        "# Connect ngrok tunnel\n",
        "public_url = ngrok.connect(addr=8501)\n",
        "print(f\"Your Streamlit app is live at: {public_url}\")\n"
      ]
    },
    {
      "cell_type": "code",
      "execution_count": null,
      "metadata": {
        "id": "1PBzgeWqp4yx"
      },
      "outputs": [],
      "source": [
        "!pkill -f ngrok\n",
        "\n"
      ]
    },
    {
      "cell_type": "code",
      "execution_count": null,
      "metadata": {
        "colab": {
          "base_uri": "https://localhost:8080/"
        },
        "id": "yDSJMqoCq4lh",
        "outputId": "e2dcc33e-8853-4de5-a196-422877c84204"
      },
      "outputs": [
        {
          "name": "stdout",
          "output_type": "stream",
          "text": [
            "Authtoken saved to configuration file: /root/.config/ngrok/ngrok.yml\n"
          ]
        }
      ],
      "source": [
        "!ngrok config add-authtoken 2vnWhsksXX9iTvvquZPSkB7GCQN_4o5pv3Y97U1G3zbH5fVtZ"
      ]
    },
    {
      "cell_type": "code",
      "execution_count": null,
      "metadata": {
        "colab": {
          "base_uri": "https://localhost:8080/"
        },
        "id": "r86KWH3ep_AB",
        "outputId": "8cebdc47-19a6-4a16-b275-10500614e361"
      },
      "outputs": [
        {
          "name": "stdout",
          "output_type": "stream",
          "text": [
            "Streamlit app is live at: NgrokTunnel: \"https://8edd-34-83-254-179.ngrok-free.app\" -> \"http://localhost:8501\"\n"
          ]
        }
      ],
      "source": [
        "import os\n",
        "import threading\n",
        "from pyngrok import ngrok\n",
        "\n",
        "# Kill any previous ngrok tunnels (just in case)\n",
        "ngrok.kill()\n",
        "\n",
        "# Start Streamlit app in a separate thread\n",
        "def run_streamlit():\n",
        "    os.system(\"streamlit run app.py\")\n",
        "\n",
        "thread = threading.Thread(target=run_streamlit)\n",
        "thread.start()\n",
        "\n",
        "# Connect ngrok tunnel to the Streamlit app\n",
        "public_url = ngrok.connect(8501)\n",
        "print(f\"Streamlit app is live at: {public_url}\")\n"
      ]
    },
    {
      "cell_type": "code",
      "execution_count": null,
      "metadata": {
        "id": "C-g4u9ZH3Wr6"
      },
      "outputs": [],
      "source": [
        "#Go to the ngrok dashboard:\n",
        "#👉 https://dashboard.ngrok.com/agents"
      ]
    }
  ],
  "metadata": {
    "colab": {
      "provenance": []
    },
    "kernelspec": {
      "display_name": "Python 3",
      "name": "python3"
    },
    "language_info": {
      "name": "python"
    }
  },
  "nbformat": 4,
  "nbformat_minor": 0
}
